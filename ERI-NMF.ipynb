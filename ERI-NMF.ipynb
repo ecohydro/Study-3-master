{
 "cells": [
  {
   "cell_type": "code",
   "execution_count": 1,
   "metadata": {},
   "outputs": [],
   "source": [
    "# Goal: Topic models with NMF and LDA (Scikit-learn)\n",
    "# Result: implementations of topic models in NMF and LDA (a comparison)\n",
    "# Output: document-word matrices\n",
    "# Resource: https://scikit-learn.org/stable/auto_examples/applications/plot_topics_extraction_with_nmf_lda\n",
    "# Resource: https://github.com/derekgreene/topic-model-tutorial/\n",
    "# TO DO: improve text pre-processing; determine \"best\" number of topics for each model w/parameter selection"
   ]
  },
  {
   "cell_type": "code",
   "execution_count": 73,
   "metadata": {},
   "outputs": [],
   "source": [
    "# Load libraries\n",
    "from pprint import pprint\n",
    "import pandas as pd\n",
    "import numpy as np\n",
    "from itertools import combinations\n",
    "\n",
    "import gensim\n",
    "from gensim.models import FastText\n",
    "\n",
    "from sklearn.decomposition import NMF, LatentDirichletAllocation\n",
    "from sklearn.feature_extraction.text import TfidfVectorizer, CountVectorizer\n",
    "from sklearn.model_selection import GridSearchCV\n",
    "\n",
    "import pyLDAvis\n",
    "import pyLDAvis.sklearn"
   ]
  },
  {
   "cell_type": "code",
   "execution_count": 13,
   "metadata": {},
   "outputs": [
    {
     "name": "stdout",
     "output_type": "stream",
     "text": [
      "Loading dataset...\n",
      "0    Streams and Urbanization Urbanization encompas...\n",
      "Name: combined, dtype: object\n"
     ]
    },
    {
     "data": {
      "text/plain": [
       "3700"
      ]
     },
     "execution_count": 13,
     "metadata": {},
     "output_type": "execute_result"
    }
   ],
   "source": [
    "# DATA Read in docs (corpus) from csv; use column 'combined'\n",
    "print(\"Loading dataset...\")\n",
    "docs = pd.read_csv(\"data/ERI-combined-2009-2019.csv\")\n",
    "docs['combined'] = docs['title'].astype(str) + ' ' + docs['abstract'].astype(str)\n",
    "data = docs['combined']\n",
    "print(data[:1])\n",
    "data_samples = data[:n_samples]\n",
    "len(data_samples)"
   ]
  },
  {
   "cell_type": "code",
   "execution_count": 74,
   "metadata": {},
   "outputs": [
    {
     "name": "stdout",
     "output_type": "stream",
     "text": [
      "Read 3770 raw text documents\n",
      "Stopword list has 524 entries\n",
      "['streams and urbanization urbanization encompasses a diverse array of watershed alterations that influence the physical, chemical, and biological characteristics of streams. in this chapter, we summarize lessons learned from the last half century of research on urban streams and provide a critique of various mitigation strategies, including recent approaches that explicitly address geomorphic processes. we focus first on the abiotic conditions (primarily hydrologic and geomorphic) and their changes in streams that accompany urbanization, recognizing that these changes may vary with geomorphic context and climatic region. we then discuss technical approaches and limitations to (1) mitigating water-quantity and water-quality degradation through site design, riparian protection, and structural stormwater-management strategies; and (2) restoring urban streams in those watersheds where the economic, social, and political contexts can support such activities.']\n"
     ]
    }
   ],
   "source": [
    "# DATA text processing\n",
    "raw_documents = []\n",
    "snippets = []\n",
    "for line in data:\n",
    "    text = line.strip()\n",
    "    raw_documents.append( line.strip().lower() ) # Read the documents from the input file again\n",
    "    snippets.append( text[0:min(len(text),100)] )\n",
    "print(\"Read %d raw text documents\" % len(raw_documents))\n",
    "\n",
    "custom_stop_words = []\n",
    "with open( \"mallet-2.0.8/stoplists/en.txt\", \"r\" ) as fin:\n",
    "    for line in fin.readlines():\n",
    "        custom_stop_words.append( line.strip().lower() )\n",
    "# note that we need to make it hashable\n",
    "print(\"Stopword list has %d entries\" % len(custom_stop_words) )\n",
    "\n",
    "print(raw_documents[:1])"
   ]
  },
  {
   "cell_type": "code",
   "execution_count": 56,
   "metadata": {},
   "outputs": [
    {
     "name": "stdout",
     "output_type": "stream",
     "text": [
      "Extracting tf-idf features for NMF...\n",
      "(3700, 1000)\n"
     ]
    }
   ],
   "source": [
    "# NLP Create document-word matrix from documents (tf-idf features)\n",
    "# Load the dataset and vectorize it\n",
    "print(\"Extracting tf-idf features for NMF...\")\n",
    "tfidf_vectorizer = TfidfVectorizer(strip_accents = 'unicode',\n",
    "                                   stop_words='english',\n",
    "                                   lowercase = True,\n",
    "                                   token_pattern = r'\\b[a-zA-Z]{3,}\\b',\n",
    "                                   max_df=0.5, # words occur in at least half of documents\n",
    "                                   min_df=2, # words occur in more than one document\n",
    "                                   max_features=n_features)\n",
    "tfidf = tfidf_vectorizer.fit_transform(data_samples)\n",
    "print(tfidf.shape)"
   ]
  },
  {
   "cell_type": "code",
   "execution_count": 76,
   "metadata": {},
   "outputs": [
    {
     "name": "stdout",
     "output_type": "stream",
     "text": [
      "Extracting tf features for LDA...\n",
      "(3700, 1000)\n",
      "Created 3770 X 1000 document-term matrix\n",
      "Vocabulary has 1000 distinct terms\n",
      "['century', 'challenge', 'challenges', 'change', 'changes', 'changing', 'channel', 'characteristics', 'characterization', 'characterize', 'characterized', 'chemical', 'china', 'chlorophyll', 'circulation', 'clear', 'climate', 'climatic', 'cloud', 'coast']\n"
     ]
    }
   ],
   "source": [
    "# NLP, Use term frequency (raw term count) features for LDA\n",
    "# Convert documents into document-term matrix, possibly as raw counts or in TF-IDF form\n",
    "print(\"Extracting tf features for LDA...\")\n",
    "tf_vectorizer = CountVectorizer(strip_accents = 'unicode',\n",
    "                                stop_words='english',\n",
    "                                lowercase = True,\n",
    "                                token_pattern = r'\\b[a-zA-Z]{3,}\\b',\n",
    "                                max_df=0.5, # words occur in at least half of documents\n",
    "                                min_df=2, # words occur in more than one document\n",
    "                                max_features=n_features) # copy same paramters from tfidf_vectorizer\n",
    "tf = tf_vectorizer.fit_transform(data_samples)\n",
    "print(tf.shape)\n",
    "A = tf_vectorizer.fit_transform(raw_documents)\n",
    "print( \"Created %d X %d document-term matrix\" % (A.shape[0], A.shape[1]) )\n",
    "terms = tf_vectorizer.get_feature_names()\n",
    "print(\"Vocabulary has %d distinct terms\" % len(terms))\n",
    "print(terms[100:120])"
   ]
  },
  {
   "cell_type": "code",
   "execution_count": 58,
   "metadata": {},
   "outputs": [
    {
     "data": {
      "text/plain": [
       "['articles-raw.pkl']"
      ]
     },
     "execution_count": 58,
     "metadata": {},
     "output_type": "execute_result"
    }
   ],
   "source": [
    "# NLP save this document-term matrix, terms, and snippets for later use\n",
    "from sklearn.externals import joblib\n",
    "joblib.dump((A,terms,snippets), \"articles-raw.pkl\")"
   ]
  },
  {
   "cell_type": "code",
   "execution_count": 59,
   "metadata": {},
   "outputs": [
    {
     "name": "stdout",
     "output_type": "stream",
     "text": [
      "Applying NMF for k=4 ...\n",
      "Applying NMF for k=5 ...\n",
      "Applying NMF for k=6 ...\n",
      "Applying NMF for k=7 ...\n",
      "Applying NMF for k=8 ...\n",
      "Applying NMF for k=9 ...\n",
      "Applying NMF for k=10 ...\n",
      "Applying NMF for k=11 ...\n",
      "Applying NMF for k=12 ...\n",
      "Applying NMF for k=13 ...\n",
      "Applying NMF for k=14 ...\n",
      "Applying NMF for k=15 ...\n"
     ]
    }
   ],
   "source": [
    "# TOPIC MODEL: Parameter Selection for NMF\n",
    "# Create the Topic Models\n",
    "kmin, kmax = 4, 15 # specify an initial range of \"sensible\" values\n",
    "from sklearn import decomposition\n",
    "# try each value of k\n",
    "for k in range(kmin,kmax+1):\n",
    "    print(\"Applying NMF for k=%d ...\" % k )\n",
    "    # run NMF\n",
    "    model = decomposition.NMF( init=\"nndsvd\", n_components=k ) \n",
    "    W = model.fit_transform( A )\n",
    "    H = model.components_    \n",
    "    # store for later\n",
    "    topic_models.append( (k,W,H) )"
   ]
  },
  {
   "cell_type": "code",
   "execution_count": 82,
   "metadata": {},
   "outputs": [
    {
     "name": "stdout",
     "output_type": "stream",
     "text": [
      "[('z', 0.0695747435092926), ('(', 0.06237316504120827), ('\\xa0', 0.06135527044534683), ('}', 0.061038702726364136), ('9', 0.0584850087761879), ('œ', 0.058113835752010345), ('8', 0.05796496942639351), ('7', 0.057263102382421494), ('ã', 0.05616030842065811), ('ƒ', 0.05508892238140106)]\n"
     ]
    }
   ],
   "source": [
    "# Parameter Selection for NMF\n",
    "# Build a Word Embedding (with Word2Vec | FastText) in Gensim\n",
    "\n",
    "# Define a class that will generate documents in a form that can be consumed by Gensim's Word2Vec implementation\n",
    "import re\n",
    "class TokenGenerator:\n",
    "    def __init__( self, documents, stopwords ):\n",
    "        self.documents = documents\n",
    "        self.stopwords = stopwords\n",
    "        self.tokenizer = re.compile( r\"(?u)\\b\\w\\w+\\b\" )\n",
    "\n",
    "    def __iter__( self ):\n",
    "        print(\"Building Word2Vec model ...\")\n",
    "        for doc in self.documents:\n",
    "            tokens = []\n",
    "            for tok in self.tokenizer.findall( doc ):\n",
    "                if tok in self.stopwords:\n",
    "                    tokens.append( \"<stopword>\" )\n",
    "                elif len(tok) >= 2:\n",
    "                    tokens.append( tok )\n",
    "            yield tokens\n",
    "            \n",
    "# Build a Skipgram Word2Vec model from all documents in the input file using Gensim\n",
    "#docgen = TokenGenerator( raw_documents, custom_stop_words )\n",
    "# the model has 500 dimensions, the minimum document-term frequency is 2\n",
    "#w2v_model = gensim.models.Word2Vec(docgen, size=500, min_count=2, sg=1)\n",
    "#print( \"Model has %d terms\" % len(w2v_model.wv.vocab) )\n",
    "#w2v_model.save(\"w2v-model.bin\")\n",
    "# To re-load this model, run\n",
    "#w2v_model = gensim.models.Word2Vec.load(\"w2v-model.bin\")\n",
    "\n",
    "# Build a FastText model as an alternative approach to word embedding\n",
    "# ft_model = FastText(raw_documents, size=500, window=5, min_count=2, workers=4, sg=1)\n",
    "# print( \"Model has %d terms\" % len(ft_model.wv.vocab) )\n",
    "sim = ft_model.wv.most_similar(\"climate\")\n",
    "print(sim)"
   ]
  },
  {
   "cell_type": "code",
   "execution_count": 79,
   "metadata": {},
   "outputs": [
    {
     "name": "stderr",
     "output_type": "stream",
     "text": [
      "/Users/saralafia/anaconda3/lib/python3.7/site-packages/ipykernel_launcher.py:11: DeprecationWarning: Call to deprecated `similarity` (Method will be removed in 4.0.0, use self.wv.similarity() instead).\n",
      "  # This is added back by InteractiveShellApp.init_path()\n",
      "/Users/saralafia/anaconda3/lib/python3.7/site-packages/ipykernel_launcher.py:11: DeprecationWarning: Call to deprecated `similarity` (Method will be removed in 4.0.0, use self.wv.similarity() instead).\n",
      "  # This is added back by InteractiveShellApp.init_path()\n",
      "/Users/saralafia/anaconda3/lib/python3.7/site-packages/ipykernel_launcher.py:11: DeprecationWarning: Call to deprecated `similarity` (Method will be removed in 4.0.0, use self.wv.similarity() instead).\n",
      "  # This is added back by InteractiveShellApp.init_path()\n",
      "/Users/saralafia/anaconda3/lib/python3.7/site-packages/ipykernel_launcher.py:11: DeprecationWarning: Call to deprecated `similarity` (Method will be removed in 4.0.0, use self.wv.similarity() instead).\n",
      "  # This is added back by InteractiveShellApp.init_path()\n"
     ]
    },
    {
     "ename": "KeyError",
     "evalue": "\"word 'using' not in vocabulary\"",
     "output_type": "error",
     "traceback": [
      "\u001b[0;31m---------------------------------------------------------------------------\u001b[0m",
      "\u001b[0;31mKeyError\u001b[0m                                  Traceback (most recent call last)",
      "\u001b[0;32m<ipython-input-79-a6b8ac3fdaed>\u001b[0m in \u001b[0;36m<module>\u001b[0;34m\u001b[0m\n\u001b[1;32m     36\u001b[0m     \u001b[0;31m# Now calculate the coherence based on our Word2vec model\u001b[0m\u001b[0;34m\u001b[0m\u001b[0;34m\u001b[0m\u001b[0;34m\u001b[0m\u001b[0m\n\u001b[1;32m     37\u001b[0m     \u001b[0mk_values\u001b[0m\u001b[0;34m.\u001b[0m\u001b[0mappend\u001b[0m\u001b[0;34m(\u001b[0m \u001b[0mk\u001b[0m \u001b[0;34m)\u001b[0m\u001b[0;34m\u001b[0m\u001b[0;34m\u001b[0m\u001b[0m\n\u001b[0;32m---> 38\u001b[0;31m     \u001b[0mcoherences\u001b[0m\u001b[0;34m.\u001b[0m\u001b[0mappend\u001b[0m\u001b[0;34m(\u001b[0m \u001b[0mcalculate_coherence\u001b[0m\u001b[0;34m(\u001b[0m \u001b[0mw2v_model\u001b[0m\u001b[0;34m,\u001b[0m \u001b[0mterm_rankings\u001b[0m \u001b[0;34m)\u001b[0m \u001b[0;34m)\u001b[0m\u001b[0;34m\u001b[0m\u001b[0;34m\u001b[0m\u001b[0m\n\u001b[0m\u001b[1;32m     39\u001b[0m     \u001b[0mprint\u001b[0m\u001b[0;34m(\u001b[0m\u001b[0;34m\"K=%02d: Coherence=%.4f\"\u001b[0m \u001b[0;34m%\u001b[0m \u001b[0;34m(\u001b[0m \u001b[0mk\u001b[0m\u001b[0;34m,\u001b[0m \u001b[0mcoherences\u001b[0m\u001b[0;34m[\u001b[0m\u001b[0;34m-\u001b[0m\u001b[0;36m1\u001b[0m\u001b[0;34m]\u001b[0m \u001b[0;34m)\u001b[0m \u001b[0;34m)\u001b[0m\u001b[0;34m\u001b[0m\u001b[0;34m\u001b[0m\u001b[0m\n",
      "\u001b[0;32m<ipython-input-79-a6b8ac3fdaed>\u001b[0m in \u001b[0;36mcalculate_coherence\u001b[0;34m(w2v_model, term_rankings)\u001b[0m\n\u001b[1;32m      9\u001b[0m         \u001b[0mpair_scores\u001b[0m \u001b[0;34m=\u001b[0m \u001b[0;34m[\u001b[0m\u001b[0;34m]\u001b[0m\u001b[0;34m\u001b[0m\u001b[0;34m\u001b[0m\u001b[0m\n\u001b[1;32m     10\u001b[0m         \u001b[0;32mfor\u001b[0m \u001b[0mpair\u001b[0m \u001b[0;32min\u001b[0m \u001b[0mcombinations\u001b[0m\u001b[0;34m(\u001b[0m \u001b[0mterm_rankings\u001b[0m\u001b[0;34m[\u001b[0m\u001b[0mtopic_index\u001b[0m\u001b[0;34m]\u001b[0m\u001b[0;34m,\u001b[0m \u001b[0;36m2\u001b[0m \u001b[0;34m)\u001b[0m\u001b[0;34m:\u001b[0m\u001b[0;34m\u001b[0m\u001b[0;34m\u001b[0m\u001b[0m\n\u001b[0;32m---> 11\u001b[0;31m             \u001b[0mpair_scores\u001b[0m\u001b[0;34m.\u001b[0m\u001b[0mappend\u001b[0m\u001b[0;34m(\u001b[0m \u001b[0mw2v_model\u001b[0m\u001b[0;34m.\u001b[0m\u001b[0msimilarity\u001b[0m\u001b[0;34m(\u001b[0m\u001b[0mpair\u001b[0m\u001b[0;34m[\u001b[0m\u001b[0;36m0\u001b[0m\u001b[0;34m]\u001b[0m\u001b[0;34m,\u001b[0m \u001b[0mpair\u001b[0m\u001b[0;34m[\u001b[0m\u001b[0;36m1\u001b[0m\u001b[0;34m]\u001b[0m\u001b[0;34m)\u001b[0m \u001b[0;34m)\u001b[0m\u001b[0;34m\u001b[0m\u001b[0;34m\u001b[0m\u001b[0m\n\u001b[0m\u001b[1;32m     12\u001b[0m         \u001b[0;31m# get the mean for all pairs in this topic\u001b[0m\u001b[0;34m\u001b[0m\u001b[0;34m\u001b[0m\u001b[0;34m\u001b[0m\u001b[0m\n\u001b[1;32m     13\u001b[0m         \u001b[0mtopic_score\u001b[0m \u001b[0;34m=\u001b[0m \u001b[0msum\u001b[0m\u001b[0;34m(\u001b[0m\u001b[0mpair_scores\u001b[0m\u001b[0;34m)\u001b[0m \u001b[0;34m/\u001b[0m \u001b[0mlen\u001b[0m\u001b[0;34m(\u001b[0m\u001b[0mpair_scores\u001b[0m\u001b[0;34m)\u001b[0m\u001b[0;34m\u001b[0m\u001b[0;34m\u001b[0m\u001b[0m\n",
      "\u001b[0;32m~/anaconda3/lib/python3.7/site-packages/gensim/utils.py\u001b[0m in \u001b[0;36mnew_func1\u001b[0;34m(*args, **kwargs)\u001b[0m\n\u001b[1;32m   1445\u001b[0m                     \u001b[0mstacklevel\u001b[0m\u001b[0;34m=\u001b[0m\u001b[0;36m2\u001b[0m\u001b[0;34m\u001b[0m\u001b[0;34m\u001b[0m\u001b[0m\n\u001b[1;32m   1446\u001b[0m                 )\n\u001b[0;32m-> 1447\u001b[0;31m                 \u001b[0;32mreturn\u001b[0m \u001b[0mfunc\u001b[0m\u001b[0;34m(\u001b[0m\u001b[0;34m*\u001b[0m\u001b[0margs\u001b[0m\u001b[0;34m,\u001b[0m \u001b[0;34m**\u001b[0m\u001b[0mkwargs\u001b[0m\u001b[0;34m)\u001b[0m\u001b[0;34m\u001b[0m\u001b[0;34m\u001b[0m\u001b[0m\n\u001b[0m\u001b[1;32m   1448\u001b[0m \u001b[0;34m\u001b[0m\u001b[0m\n\u001b[1;32m   1449\u001b[0m             \u001b[0;32mreturn\u001b[0m \u001b[0mnew_func1\u001b[0m\u001b[0;34m\u001b[0m\u001b[0;34m\u001b[0m\u001b[0m\n",
      "\u001b[0;32m~/anaconda3/lib/python3.7/site-packages/gensim/models/base_any2vec.py\u001b[0m in \u001b[0;36msimilarity\u001b[0;34m(self, w1, w2)\u001b[0m\n\u001b[1;32m   1450\u001b[0m \u001b[0;34m\u001b[0m\u001b[0m\n\u001b[1;32m   1451\u001b[0m         \"\"\"\n\u001b[0;32m-> 1452\u001b[0;31m         \u001b[0;32mreturn\u001b[0m \u001b[0mself\u001b[0m\u001b[0;34m.\u001b[0m\u001b[0mwv\u001b[0m\u001b[0;34m.\u001b[0m\u001b[0msimilarity\u001b[0m\u001b[0;34m(\u001b[0m\u001b[0mw1\u001b[0m\u001b[0;34m,\u001b[0m \u001b[0mw2\u001b[0m\u001b[0;34m)\u001b[0m\u001b[0;34m\u001b[0m\u001b[0;34m\u001b[0m\u001b[0m\n\u001b[0m\u001b[1;32m   1453\u001b[0m \u001b[0;34m\u001b[0m\u001b[0m\n\u001b[1;32m   1454\u001b[0m     \u001b[0;34m@\u001b[0m\u001b[0mdeprecated\u001b[0m\u001b[0;34m(\u001b[0m\u001b[0;34m\"Method will be removed in 4.0.0, use self.wv.n_similarity() instead\"\u001b[0m\u001b[0;34m)\u001b[0m\u001b[0;34m\u001b[0m\u001b[0;34m\u001b[0m\u001b[0m\n",
      "\u001b[0;32m~/anaconda3/lib/python3.7/site-packages/gensim/models/keyedvectors.py\u001b[0m in \u001b[0;36msimilarity\u001b[0;34m(self, w1, w2)\u001b[0m\n\u001b[1;32m    972\u001b[0m \u001b[0;34m\u001b[0m\u001b[0m\n\u001b[1;32m    973\u001b[0m         \"\"\"\n\u001b[0;32m--> 974\u001b[0;31m         \u001b[0;32mreturn\u001b[0m \u001b[0mdot\u001b[0m\u001b[0;34m(\u001b[0m\u001b[0mmatutils\u001b[0m\u001b[0;34m.\u001b[0m\u001b[0munitvec\u001b[0m\u001b[0;34m(\u001b[0m\u001b[0mself\u001b[0m\u001b[0;34m[\u001b[0m\u001b[0mw1\u001b[0m\u001b[0;34m]\u001b[0m\u001b[0;34m)\u001b[0m\u001b[0;34m,\u001b[0m \u001b[0mmatutils\u001b[0m\u001b[0;34m.\u001b[0m\u001b[0munitvec\u001b[0m\u001b[0;34m(\u001b[0m\u001b[0mself\u001b[0m\u001b[0;34m[\u001b[0m\u001b[0mw2\u001b[0m\u001b[0;34m]\u001b[0m\u001b[0;34m)\u001b[0m\u001b[0;34m)\u001b[0m\u001b[0;34m\u001b[0m\u001b[0;34m\u001b[0m\u001b[0m\n\u001b[0m\u001b[1;32m    975\u001b[0m \u001b[0;34m\u001b[0m\u001b[0m\n\u001b[1;32m    976\u001b[0m     \u001b[0;32mdef\u001b[0m \u001b[0mn_similarity\u001b[0m\u001b[0;34m(\u001b[0m\u001b[0mself\u001b[0m\u001b[0;34m,\u001b[0m \u001b[0mws1\u001b[0m\u001b[0;34m,\u001b[0m \u001b[0mws2\u001b[0m\u001b[0;34m)\u001b[0m\u001b[0;34m:\u001b[0m\u001b[0;34m\u001b[0m\u001b[0;34m\u001b[0m\u001b[0m\n",
      "\u001b[0;32m~/anaconda3/lib/python3.7/site-packages/gensim/models/keyedvectors.py\u001b[0m in \u001b[0;36m__getitem__\u001b[0;34m(self, entities)\u001b[0m\n\u001b[1;32m    351\u001b[0m         \u001b[0;32mif\u001b[0m \u001b[0misinstance\u001b[0m\u001b[0;34m(\u001b[0m\u001b[0mentities\u001b[0m\u001b[0;34m,\u001b[0m \u001b[0mstring_types\u001b[0m\u001b[0;34m)\u001b[0m\u001b[0;34m:\u001b[0m\u001b[0;34m\u001b[0m\u001b[0;34m\u001b[0m\u001b[0m\n\u001b[1;32m    352\u001b[0m             \u001b[0;31m# allow calls like trained_model['office'], as a shorthand for trained_model[['office']]\u001b[0m\u001b[0;34m\u001b[0m\u001b[0;34m\u001b[0m\u001b[0;34m\u001b[0m\u001b[0m\n\u001b[0;32m--> 353\u001b[0;31m             \u001b[0;32mreturn\u001b[0m \u001b[0mself\u001b[0m\u001b[0;34m.\u001b[0m\u001b[0mget_vector\u001b[0m\u001b[0;34m(\u001b[0m\u001b[0mentities\u001b[0m\u001b[0;34m)\u001b[0m\u001b[0;34m\u001b[0m\u001b[0;34m\u001b[0m\u001b[0m\n\u001b[0m\u001b[1;32m    354\u001b[0m \u001b[0;34m\u001b[0m\u001b[0m\n\u001b[1;32m    355\u001b[0m         \u001b[0;32mreturn\u001b[0m \u001b[0mvstack\u001b[0m\u001b[0;34m(\u001b[0m\u001b[0;34m[\u001b[0m\u001b[0mself\u001b[0m\u001b[0;34m.\u001b[0m\u001b[0mget_vector\u001b[0m\u001b[0;34m(\u001b[0m\u001b[0mentity\u001b[0m\u001b[0;34m)\u001b[0m \u001b[0;32mfor\u001b[0m \u001b[0mentity\u001b[0m \u001b[0;32min\u001b[0m \u001b[0mentities\u001b[0m\u001b[0;34m]\u001b[0m\u001b[0;34m)\u001b[0m\u001b[0;34m\u001b[0m\u001b[0;34m\u001b[0m\u001b[0m\n",
      "\u001b[0;32m~/anaconda3/lib/python3.7/site-packages/gensim/models/keyedvectors.py\u001b[0m in \u001b[0;36mget_vector\u001b[0;34m(self, word)\u001b[0m\n\u001b[1;32m    469\u001b[0m \u001b[0;34m\u001b[0m\u001b[0m\n\u001b[1;32m    470\u001b[0m     \u001b[0;32mdef\u001b[0m \u001b[0mget_vector\u001b[0m\u001b[0;34m(\u001b[0m\u001b[0mself\u001b[0m\u001b[0;34m,\u001b[0m \u001b[0mword\u001b[0m\u001b[0;34m)\u001b[0m\u001b[0;34m:\u001b[0m\u001b[0;34m\u001b[0m\u001b[0;34m\u001b[0m\u001b[0m\n\u001b[0;32m--> 471\u001b[0;31m         \u001b[0;32mreturn\u001b[0m \u001b[0mself\u001b[0m\u001b[0;34m.\u001b[0m\u001b[0mword_vec\u001b[0m\u001b[0;34m(\u001b[0m\u001b[0mword\u001b[0m\u001b[0;34m)\u001b[0m\u001b[0;34m\u001b[0m\u001b[0;34m\u001b[0m\u001b[0m\n\u001b[0m\u001b[1;32m    472\u001b[0m \u001b[0;34m\u001b[0m\u001b[0m\n\u001b[1;32m    473\u001b[0m     \u001b[0;32mdef\u001b[0m \u001b[0mwords_closer_than\u001b[0m\u001b[0;34m(\u001b[0m\u001b[0mself\u001b[0m\u001b[0;34m,\u001b[0m \u001b[0mw1\u001b[0m\u001b[0;34m,\u001b[0m \u001b[0mw2\u001b[0m\u001b[0;34m)\u001b[0m\u001b[0;34m:\u001b[0m\u001b[0;34m\u001b[0m\u001b[0;34m\u001b[0m\u001b[0m\n",
      "\u001b[0;32m~/anaconda3/lib/python3.7/site-packages/gensim/models/keyedvectors.py\u001b[0m in \u001b[0;36mword_vec\u001b[0;34m(self, word, use_norm)\u001b[0m\n\u001b[1;32m    466\u001b[0m             \u001b[0;32mreturn\u001b[0m \u001b[0mresult\u001b[0m\u001b[0;34m\u001b[0m\u001b[0;34m\u001b[0m\u001b[0m\n\u001b[1;32m    467\u001b[0m         \u001b[0;32melse\u001b[0m\u001b[0;34m:\u001b[0m\u001b[0;34m\u001b[0m\u001b[0;34m\u001b[0m\u001b[0m\n\u001b[0;32m--> 468\u001b[0;31m             \u001b[0;32mraise\u001b[0m \u001b[0mKeyError\u001b[0m\u001b[0;34m(\u001b[0m\u001b[0;34m\"word '%s' not in vocabulary\"\u001b[0m \u001b[0;34m%\u001b[0m \u001b[0mword\u001b[0m\u001b[0;34m)\u001b[0m\u001b[0;34m\u001b[0m\u001b[0;34m\u001b[0m\u001b[0m\n\u001b[0m\u001b[1;32m    469\u001b[0m \u001b[0;34m\u001b[0m\u001b[0m\n\u001b[1;32m    470\u001b[0m     \u001b[0;32mdef\u001b[0m \u001b[0mget_vector\u001b[0m\u001b[0;34m(\u001b[0m\u001b[0mself\u001b[0m\u001b[0;34m,\u001b[0m \u001b[0mword\u001b[0m\u001b[0;34m)\u001b[0m\u001b[0;34m:\u001b[0m\u001b[0;34m\u001b[0m\u001b[0;34m\u001b[0m\u001b[0m\n",
      "\u001b[0;31mKeyError\u001b[0m: \"word 'using' not in vocabulary\""
     ]
    }
   ],
   "source": [
    "# Parameter Selection for NMF\n",
    "# Use Word2Vec model to calculate coherence scores for each of these models\n",
    "\n",
    "# coherence score\n",
    "def calculate_coherence( w2v_model, term_rankings ):\n",
    "    overall_coherence = 0.0\n",
    "    for topic_index in range(len(term_rankings)):\n",
    "        # check each pair of terms\n",
    "        pair_scores = []\n",
    "        for pair in combinations( term_rankings[topic_index], 2 ):\n",
    "            pair_scores.append( w2v_model.similarity(pair[0], pair[1]) )\n",
    "        # get the mean for all pairs in this topic\n",
    "        topic_score = sum(pair_scores) / len(pair_scores)\n",
    "        overall_coherence += topic_score\n",
    "    # get the mean score across all topics\n",
    "    return overall_coherence / len(term_rankings)\n",
    "\n",
    "# get the topic descriptor (i.e. list of top terms) for each topic\n",
    "def get_descriptor( all_terms, H, topic_index, top ):\n",
    "    # reverse sort the values to sort the indices\n",
    "    top_indices = np.argsort( H[topic_index,:] )[::-1]\n",
    "    # now get the terms corresponding to the top-ranked indices\n",
    "    top_terms = []\n",
    "    for term_index in top_indices[0:top]:\n",
    "        top_terms.append( all_terms[term_index] )\n",
    "    return top_terms\n",
    "\n",
    "# process each of the models for different values of k\n",
    "k_values = []\n",
    "coherences = []\n",
    "for (k,W,H) in topic_models:\n",
    "    # Get all of the topic descriptors - the term_rankings, based on top 10 terms\n",
    "    term_rankings = []\n",
    "    for topic_index in range(k):\n",
    "        term_rankings.append( get_descriptor( terms, H, topic_index, 10 ) )\n",
    "    # Now calculate the coherence based on our Word2vec model\n",
    "    k_values.append( k )\n",
    "    coherences.append( calculate_coherence( w2v_model, term_rankings ) )\n",
    "    print(\"K=%02d: Coherence=%.4f\" % ( k, coherences[-1] ) )"
   ]
  },
  {
   "cell_type": "code",
   "execution_count": 11,
   "metadata": {},
   "outputs": [],
   "source": [
    "# Define parameters for models\n",
    "n_samples = 3700 # number of data points (3700 in set)\n",
    "n_features = 1000 # time complexity is polynomial in NMF\n",
    "n_components = 10 # number of topics\n",
    "n_top_words = 20 # N significant words returned"
   ]
  },
  {
   "cell_type": "code",
   "execution_count": 12,
   "metadata": {},
   "outputs": [],
   "source": [
    "# Return top words from each model\n",
    "def print_top_words(model, feature_names, n_top_words):\n",
    "    for topic_idx, topic in enumerate(model.components_):\n",
    "        message = \"Topic #%d: \" % topic_idx\n",
    "        message += \" \".join([feature_names[i]\n",
    "                             for i in topic.argsort()[:-n_top_words - 1:-1]])\n",
    "        print(message)\n",
    "    print()"
   ]
  },
  {
   "cell_type": "code",
   "execution_count": 54,
   "metadata": {},
   "outputs": [
    {
     "name": "stdout",
     "output_type": "stream",
     "text": [
      "Fitting the NMF model (Frobenius norm) with tf-idf features, n_samples=3700 and n_features=1000...\n",
      "\n",
      "Topics in NMF model (Frobenius norm):\n",
      "Topic #0: data water use model environmental based using research analysis land spatial energy study results used models project approach information high\n",
      "Topic #1: mantle crust rocks crustal zircon subduction metamorphism lavas arc metamorphic continental isotopic exhumation monazite deformation high ages dates melting upper\n",
      "Topic #2: snow swe cover water snowmelt snowpack equivalent model modis microwave covered mountain sierra grain resolution scattering nevada sensing depth remote\n",
      "Topic #3: soil moisture microbial soils vegetation plant microwave surface dry water organic drought biomass carbon plants algorithm band season nitrogen temperature\n",
      "Topic #4: ice sea sheet glacial antarctic holocene level arctic shelf ages rise bay past circulation maximum warming early west margin age\n",
      "Topic #5: species plant diversity native habitat richness biomass ecosystem communities biodiversity abundance effects populations conservation community ecosystems population marine management ecological\n",
      "Topic #6: fault slip earthquake rupture faults seismic motion earthquakes ground zone velocity deformation stress san southern rate shear project california fold\n",
      "Topic #7: climate change changes precipitation adaptation future impacts global land forest variability warming responses rainfall models monsoon model scenarios regional conservation\n",
      "Topic #8: ocean carbon phytoplankton color global optical organic export cdom satellite particle dissolved surface observations marine algorithms waters absorption production chlorophyll\n",
      "Topic #9: sediment erosion river rates channel basin floodplain fluvial transport flow rivers incision precipitation amazon flood rainfall basins downstream water flux\n",
      "\n"
     ]
    },
    {
     "ename": "AttributeError",
     "evalue": "'NMF' object has no attribute 'score'",
     "output_type": "error",
     "traceback": [
      "\u001b[0;31m---------------------------------------------------------------------------\u001b[0m",
      "\u001b[0;31mAttributeError\u001b[0m                            Traceback (most recent call last)",
      "\u001b[0;32m<ipython-input-54-dadb01b35354>\u001b[0m in \u001b[0;36m<module>\u001b[0;34m\u001b[0m\n\u001b[1;32m     14\u001b[0m \u001b[0;34m\u001b[0m\u001b[0m\n\u001b[1;32m     15\u001b[0m \u001b[0;31m# Log likelihood: Higher the better\u001b[0m\u001b[0;34m\u001b[0m\u001b[0;34m\u001b[0m\u001b[0;34m\u001b[0m\u001b[0m\n\u001b[0;32m---> 16\u001b[0;31m \u001b[0mprint\u001b[0m\u001b[0;34m(\u001b[0m\u001b[0;34m\"Log Likelihood: \"\u001b[0m\u001b[0;34m,\u001b[0m \u001b[0mnmf_fm\u001b[0m\u001b[0;34m.\u001b[0m\u001b[0mscore\u001b[0m\u001b[0;34m(\u001b[0m\u001b[0mtfidf\u001b[0m\u001b[0;34m)\u001b[0m\u001b[0;34m)\u001b[0m\u001b[0;34m\u001b[0m\u001b[0;34m\u001b[0m\u001b[0m\n\u001b[0m\u001b[1;32m     17\u001b[0m \u001b[0;34m\u001b[0m\u001b[0m\n\u001b[1;32m     18\u001b[0m \u001b[0;31m# Perplexity: Lower the better. Perplexity = exp(-1. * log-likelihood per word)\u001b[0m\u001b[0;34m\u001b[0m\u001b[0;34m\u001b[0m\u001b[0;34m\u001b[0m\u001b[0m\n",
      "\u001b[0;31mAttributeError\u001b[0m: 'NMF' object has no attribute 'score'"
     ]
    }
   ],
   "source": [
    "# Topic Modeling (NMF) Fit the model (Frobenius norm)\n",
    "print(\"Fitting the NMF model (Frobenius norm) with tf-idf features, \"\n",
    "      \"n_samples=%d and n_features=%d...\"\n",
    "      % (n_samples, n_features))\n",
    "\n",
    "nmf_fm = NMF(n_components=n_components, \n",
    "          random_state=1,\n",
    "          alpha=.1, \n",
    "          l1_ratio=.5).fit(tfidf)\n",
    "\n",
    "print(\"\\nTopics in NMF model (Frobenius norm):\")\n",
    "tfidf_feature_names = tfidf_vectorizer.get_feature_names()\n",
    "print_top_words(nmf_fm, tfidf_feature_names, n_top_words)\n",
    "\n",
    "# Log likelihood: Higher the better\n",
    "print(\"Log Likelihood: \", nmf_fm.score(tfidf))\n",
    "\n",
    "# Perplexity: Lower the better. Perplexity = exp(-1. * log-likelihood per word)\n",
    "print(\"Perplexity: \", nmf_fm.perplexity(tfidf))"
   ]
  },
  {
   "cell_type": "code",
   "execution_count": 51,
   "metadata": {},
   "outputs": [
    {
     "name": "stdout",
     "output_type": "stream",
     "text": [
      "Fitting the NMF model (generalized Kullback-Leibler divergence) with tf-idf features, n_samples=3700 and n_features=1000...\n",
      "\n",
      "Topics in NMF model (generalized Kullback-Leibler divergence):\n",
      "Topic #0: based results use analysis high used environmental different studies including potential model study using models important effects systems data approach\n",
      "Topic #1: data new high evolution crust age ages crustal rocks deformation lower record mantle isotope continental early history low upper consistent\n",
      "Topic #2: data based using used algorithm model measurements surface accuracy water accurate remote resolution analysis observations area results method sensing band\n",
      "Topic #3: carbon high concentrations higher organic activity growth microbial increased low production significantly nanoparticles results soil composition effects concentration exposed different\n",
      "Topic #4: climate changes change annual water precipitation associated increased america climatic variability nevada patterns central likely rainfall temperature season elevation increases\n",
      "Topic #5: species abundance california diversity results plant community ecosystem biomass data populations suggest structure conservation greater population biodiversity ecological multiple effects\n",
      "Topic #6: california fault project earthquake active available seismic field faults ground research earthquakes frequency surface ucsb focus center rate include southern\n",
      "Topic #7: change global climate research new development future project understanding ecosystem conservation management earth develop science provide available data current international\n",
      "Topic #8: ocean surface sea global time coastal data marine observations circulation carbon model measurements distribution flux spatial biogeochemical near variability dynamics\n",
      "Topic #9: areas area river california channel analysis basin data spatial land water using based sediment landscape study urban field amazon habitat\n",
      "\n",
      "Log Likelihood:  -168789.52023907343\n",
      "Perplexity:  3600.018503714707\n"
     ]
    }
   ],
   "source": [
    "# Topic Modeling (NMF) Fit the model (generalized Kullback-Leibler divergence ~ Probabilistic Latent Semantic Indexing)\n",
    "print(\"Fitting the NMF model (generalized Kullback-Leibler divergence) with \"\n",
    "      \"tf-idf features, n_samples=%d and n_features=%d...\"\n",
    "      % (n_samples, n_features))\n",
    "\n",
    "nmf = NMF(n_components=n_components, random_state=1,\n",
    "          beta_loss='kullback-leibler', solver='mu', max_iter=1000, alpha=.1,\n",
    "          l1_ratio=.5).fit(tfidf)\n",
    "\n",
    "print(\"\\nTopics in NMF model (generalized Kullback-Leibler divergence):\")\n",
    "tfidf_feature_names = tfidf_vectorizer.get_feature_names()\n",
    "print_top_words(nmf, tfidf_feature_names, n_top_words)\n",
    "tfidf_vectorizer.get_params()\n",
    "\n",
    "# Log likelihood: Higher the better\n",
    "print(\"Log Likelihood: \", lda_tf.score(tfidf))\n",
    "\n",
    "# Perplexity: Lower the better. Perplexity = exp(-1. * log-likelihood per word)\n",
    "print(\"Perplexity: \", lda_tf.perplexity(tfidf))"
   ]
  },
  {
   "cell_type": "code",
   "execution_count": 78,
   "metadata": {},
   "outputs": [
    {
     "name": "stderr",
     "output_type": "stream",
     "text": [
      "/Users/saralafia/anaconda3/lib/python3.7/site-packages/sklearn/model_selection/_split.py:1978: FutureWarning: The default value of cv will change from 3 to 5 in version 0.22. Specify it explicitly to silence this warning.\n",
      "  warnings.warn(CV_WARNING, FutureWarning)\n"
     ]
    },
    {
     "name": "stdout",
     "output_type": "stream",
     "text": [
      "Best Model's Params:  {'learning_decay': 0.5, 'n_components': 10}\n",
      "Best Log Likelihood Score:  -667324.5189372872\n"
     ]
    },
    {
     "ename": "NameError",
     "evalue": "name 'data_vectorized' is not defined",
     "output_type": "error",
     "traceback": [
      "\u001b[0;31m---------------------------------------------------------------------------\u001b[0m",
      "\u001b[0;31mNameError\u001b[0m                                 Traceback (most recent call last)",
      "\u001b[0;32m<ipython-input-78-326c1176c78b>\u001b[0m in \u001b[0;36m<module>\u001b[0;34m\u001b[0m\n\u001b[1;32m     23\u001b[0m \u001b[0;34m\u001b[0m\u001b[0m\n\u001b[1;32m     24\u001b[0m \u001b[0;31m# Perplexity\u001b[0m\u001b[0;34m\u001b[0m\u001b[0;34m\u001b[0m\u001b[0;34m\u001b[0m\u001b[0m\n\u001b[0;32m---> 25\u001b[0;31m \u001b[0mprint\u001b[0m\u001b[0;34m(\u001b[0m\u001b[0;34m\"Model Perplexity: \"\u001b[0m\u001b[0;34m,\u001b[0m \u001b[0mbest_lda_model\u001b[0m\u001b[0;34m.\u001b[0m\u001b[0mperplexity\u001b[0m\u001b[0;34m(\u001b[0m\u001b[0mdata_vectorized\u001b[0m\u001b[0;34m)\u001b[0m\u001b[0;34m)\u001b[0m\u001b[0;34m\u001b[0m\u001b[0;34m\u001b[0m\u001b[0m\n\u001b[0m",
      "\u001b[0;31mNameError\u001b[0m: name 'data_vectorized' is not defined"
     ]
    }
   ],
   "source": [
    "# Topic model (LDA) grid search to find best number of topics\n",
    "# LDA can only use raw term counts for LDA because it is a probabilistic graphical model\n",
    "\n",
    "# Define Search Param\n",
    "search_params = {'n_components': [5, 10, 15, 20, 25, 30, 35, 40, 45, 50, 55, 60, 65, 70, 75, 80, 85, 90, 95, 100], \n",
    "                 'learning_decay': [.5, .7, .9]}\n",
    "\n",
    "# Init the Model\n",
    "lda = LatentDirichletAllocation()\n",
    "\n",
    "# Init Grid Search Class\n",
    "model = GridSearchCV(lda, param_grid=search_params)\n",
    "\n",
    "# Do the Grid Search\n",
    "model.fit(tf)\n",
    "\n",
    "# Best Model\n",
    "best_lda_model = model.best_estimator_\n",
    "\n",
    "# Model Parameters\n",
    "print(\"Best Model's Params: \", model.best_params_)\n",
    "\n",
    "# Log Likelihood Score\n",
    "print(\"Best Log Likelihood Score: \", model.best_score_)\n",
    "\n",
    "# Perplexity\n",
    "#print(\"Model Perplexity: \", best_lda_model.perplexity(tf))"
   ]
  },
  {
   "cell_type": "code",
   "execution_count": 7,
   "metadata": {},
   "outputs": [
    {
     "name": "stdout",
     "output_type": "stream",
     "text": [
      "Fitting LDA models with tf features, n_samples=3700 and n_features=1000...\n",
      "Log Likelihood:  -1944449.5032006903\n",
      "Perplexity:  567.3650123490625\n",
      "\n",
      "Topics in LDA model:\n",
      "Topic #0: research project change climate management environmental program conservation systems development ucsb data global california restoration natural use ecosystem provide understanding\n",
      "Topic #1: data using model based snow surface vegetation used resolution method satellite spatial analysis remote cover observations measurements spectral models time\n",
      "Topic #2: soil plant plants nanoparticles effects water soils species leaf high results increased native nitrogen litter effect exposure uptake decomposition stress\n",
      "Topic #3: carbon production biomass microbial community environmental organic phytoplankton diversity effects processes oil cycle emissions biogeochemical marine communities life global primary\n",
      "Topic #4: ocean mantle wave source high isotopic data samples isotope seismic lavas element waves oceanic surface trace composition velocity low new\n",
      "Topic #5: fault slip ice earthquake basin sea rates new rupture southern california age faults data rate motion glacial sierra north active\n",
      "Topic #6: rocks crust crustal zircon shear deformation high metamorphic subduction pressure dates monazite temperature himalayan thermal himalaya ages metamorphism evolution exhumation\n",
      "Topic #7: water sediment river rates channel erosion lake flow basin flux stream amazon groundwater lakes surface floodplain methane high transport measurements\n",
      "Topic #8: species use land energy habitat model models population areas based using urban results risk forest tree spatial analysis human growth\n",
      "Topic #9: climate precipitation variability changes water rainfall snow change model annual vegetation seasonal temperature events forest summer season year patterns southern\n",
      "\n"
     ]
    },
    {
     "ename": "NameError",
     "evalue": "name 'pprint' is not defined",
     "output_type": "error",
     "traceback": [
      "\u001b[0;31m---------------------------------------------------------------------------\u001b[0m",
      "\u001b[0;31mNameError\u001b[0m                                 Traceback (most recent call last)",
      "\u001b[0;32m<ipython-input-7-ca2bea345235>\u001b[0m in \u001b[0;36m<module>\u001b[0;34m\u001b[0m\n\u001b[1;32m     28\u001b[0m \u001b[0;34m\u001b[0m\u001b[0m\n\u001b[1;32m     29\u001b[0m \u001b[0;31m# See model parameters\u001b[0m\u001b[0;34m\u001b[0m\u001b[0;34m\u001b[0m\u001b[0;34m\u001b[0m\u001b[0m\n\u001b[0;32m---> 30\u001b[0;31m \u001b[0mpprint\u001b[0m\u001b[0;34m(\u001b[0m\u001b[0mlda\u001b[0m\u001b[0;34m.\u001b[0m\u001b[0mget_params\u001b[0m\u001b[0;34m(\u001b[0m\u001b[0;34m)\u001b[0m\u001b[0;34m)\u001b[0m\u001b[0;34m\u001b[0m\u001b[0;34m\u001b[0m\u001b[0m\n\u001b[0m",
      "\u001b[0;31mNameError\u001b[0m: name 'pprint' is not defined"
     ]
    }
   ],
   "source": [
    "# Topic Modeling (LDA) Fit the model with found parameters\n",
    "\n",
    "print(\"Fitting LDA models with tf features, \"\n",
    "      \"n_samples=%d and n_features=%d...\"\n",
    "      % (n_samples, n_features))\n",
    "\n",
    "# for TF LDA\n",
    "lda_tf = LatentDirichletAllocation(n_components=10, \n",
    "                                   #n_components=n_components,\n",
    "                                   max_iter=5,\n",
    "                                   learning_method='online',\n",
    "                                   learning_offset=50.,\n",
    "                                   learning_decay=0.5,\n",
    "                                   random_state=0)\n",
    "\n",
    "\n",
    "lda_tf.fit(tf)\n",
    "\n",
    "# Log likelihood: Higher the better\n",
    "print(\"Log Likelihood: \", lda_tf.score(tf))\n",
    "\n",
    "# Perplexity: Lower the better. Perplexity = exp(-1. * log-likelihood per word)\n",
    "print(\"Perplexity: \", lda_tf.perplexity(tf))\n",
    "\n",
    "print(\"\\nTopics in LDA model:\")\n",
    "tf_feature_names = tf_vectorizer.get_feature_names()\n",
    "print_top_words(lda_tf, tf_feature_names, n_top_words)\n",
    "\n",
    "# See model parameters\n",
    "pprint(lda.get_params())"
   ]
  },
  {
   "cell_type": "code",
   "execution_count": 8,
   "metadata": {},
   "outputs": [
    {
     "name": "stderr",
     "output_type": "stream",
     "text": [
      "/Users/saralafia/anaconda3/lib/python3.7/site-packages/pyLDAvis/_prepare.py:257: FutureWarning: Sorting because non-concatenation axis is not aligned. A future version\n",
      "of pandas will change to not sort by default.\n",
      "\n",
      "To accept the future behavior, pass 'sort=False'.\n",
      "\n",
      "To retain the current behavior and silence the warning, pass 'sort=True'.\n",
      "\n",
      "  return pd.concat([default_term_info] + list(topic_dfs))\n"
     ]
    },
    {
     "data": {
      "text/html": [
       "\n",
       "<link rel=\"stylesheet\" type=\"text/css\" href=\"https://cdn.rawgit.com/bmabey/pyLDAvis/files/ldavis.v1.0.0.css\">\n",
       "\n",
       "\n",
       "<div id=\"ldavis_el965511122667968724432803295\"></div>\n",
       "<script type=\"text/javascript\">\n",
       "\n",
       "var ldavis_el965511122667968724432803295_data = {\"mdsDat\": {\"x\": [0.07314096317688527, 0.11379610871097692, 0.18409205079667867, 0.020343978508222577, 0.13510976878613248, -0.15127308822522942, -0.03835658565448136, -0.07177105978954078, 0.05128932094294704, -0.31637145725259147], \"y\": [0.08256373572823351, 0.028917574748695375, 0.1772053670382694, -0.0017043455850974968, -0.08106181750548556, 0.07558337557709482, -0.089253740057111, 0.049201443356352764, -0.260597751883037, 0.019146158582085286], \"topics\": [1, 2, 3, 4, 5, 6, 7, 8, 9, 10], \"cluster\": [1, 1, 1, 1, 1, 1, 1, 1, 1, 1], \"Freq\": [14.511508644281337, 13.451547326801247, 11.774393314590464, 11.052857776583757, 10.006759245822238, 9.46521757813682, 9.28217988578021, 9.12780360561497, 6.798207040867055, 4.529525581521908]}, \"tinfo\": {\"Category\": [\"Default\", \"Default\", \"Default\", \"Default\", \"Default\", \"Default\", \"Default\", \"Default\", \"Default\", \"Default\", \"Default\", \"Default\", \"Default\", \"Default\", \"Default\", \"Default\", \"Default\", \"Default\", \"Default\", \"Default\", \"Default\", \"Default\", \"Default\", \"Default\", \"Default\", \"Default\", \"Default\", \"Default\", \"Default\", \"Default\", \"Topic1\", \"Topic1\", \"Topic1\", \"Topic1\", \"Topic1\", \"Topic1\", \"Topic1\", \"Topic1\", \"Topic1\", \"Topic1\", \"Topic1\", \"Topic1\", \"Topic1\", \"Topic1\", \"Topic1\", \"Topic1\", \"Topic1\", \"Topic1\", \"Topic1\", \"Topic1\", \"Topic1\", \"Topic1\", \"Topic1\", \"Topic1\", \"Topic1\", \"Topic1\", \"Topic1\", \"Topic1\", \"Topic1\", \"Topic1\", \"Topic1\", \"Topic1\", \"Topic1\", \"Topic1\", \"Topic1\", \"Topic1\", \"Topic1\", \"Topic1\", \"Topic1\", \"Topic1\", \"Topic1\", \"Topic1\", \"Topic1\", \"Topic1\", \"Topic1\", \"Topic1\", \"Topic1\", \"Topic1\", \"Topic1\", \"Topic1\", \"Topic1\", \"Topic1\", \"Topic1\", \"Topic1\", \"Topic1\", \"Topic1\", \"Topic2\", \"Topic2\", \"Topic2\", \"Topic2\", \"Topic2\", \"Topic2\", \"Topic2\", \"Topic2\", \"Topic2\", \"Topic2\", \"Topic2\", \"Topic2\", \"Topic2\", \"Topic2\", \"Topic2\", \"Topic2\", \"Topic2\", \"Topic2\", \"Topic2\", \"Topic2\", \"Topic2\", \"Topic2\", \"Topic2\", \"Topic2\", \"Topic2\", \"Topic2\", \"Topic2\", \"Topic2\", \"Topic2\", \"Topic2\", \"Topic2\", \"Topic2\", \"Topic2\", \"Topic2\", \"Topic2\", \"Topic2\", \"Topic2\", \"Topic2\", \"Topic2\", \"Topic2\", \"Topic2\", \"Topic2\", \"Topic2\", \"Topic2\", \"Topic2\", \"Topic2\", \"Topic2\", \"Topic2\", \"Topic2\", \"Topic2\", \"Topic2\", \"Topic2\", \"Topic2\", \"Topic3\", \"Topic3\", \"Topic3\", \"Topic3\", \"Topic3\", \"Topic3\", \"Topic3\", \"Topic3\", \"Topic3\", \"Topic3\", \"Topic3\", \"Topic3\", \"Topic3\", \"Topic3\", \"Topic3\", \"Topic3\", \"Topic3\", \"Topic3\", \"Topic3\", \"Topic3\", \"Topic3\", \"Topic3\", \"Topic3\", \"Topic3\", \"Topic3\", \"Topic3\", \"Topic3\", \"Topic3\", \"Topic3\", \"Topic3\", \"Topic3\", \"Topic3\", \"Topic3\", \"Topic3\", \"Topic3\", \"Topic3\", \"Topic3\", \"Topic3\", \"Topic3\", \"Topic3\", \"Topic3\", \"Topic3\", \"Topic3\", \"Topic3\", \"Topic3\", \"Topic3\", \"Topic3\", \"Topic3\", \"Topic3\", \"Topic3\", \"Topic3\", \"Topic3\", \"Topic3\", \"Topic3\", \"Topic3\", \"Topic3\", \"Topic3\", \"Topic4\", \"Topic4\", \"Topic4\", \"Topic4\", \"Topic4\", \"Topic4\", \"Topic4\", \"Topic4\", \"Topic4\", \"Topic4\", \"Topic4\", \"Topic4\", \"Topic4\", \"Topic4\", \"Topic4\", \"Topic4\", \"Topic4\", \"Topic4\", \"Topic4\", \"Topic4\", \"Topic4\", \"Topic4\", \"Topic4\", \"Topic4\", \"Topic4\", \"Topic4\", \"Topic4\", \"Topic4\", \"Topic4\", \"Topic4\", \"Topic4\", \"Topic4\", \"Topic4\", \"Topic4\", \"Topic4\", \"Topic4\", \"Topic4\", \"Topic4\", \"Topic4\", \"Topic4\", \"Topic4\", \"Topic4\", \"Topic4\", \"Topic4\", \"Topic4\", \"Topic4\", \"Topic4\", \"Topic4\", \"Topic5\", \"Topic5\", \"Topic5\", \"Topic5\", \"Topic5\", \"Topic5\", \"Topic5\", \"Topic5\", \"Topic5\", \"Topic5\", \"Topic5\", \"Topic5\", \"Topic5\", \"Topic5\", \"Topic5\", \"Topic5\", \"Topic5\", \"Topic5\", \"Topic5\", \"Topic5\", \"Topic5\", \"Topic5\", \"Topic5\", \"Topic5\", \"Topic5\", \"Topic5\", \"Topic5\", \"Topic5\", \"Topic5\", \"Topic5\", \"Topic5\", \"Topic5\", \"Topic5\", \"Topic5\", \"Topic5\", \"Topic5\", \"Topic5\", \"Topic5\", \"Topic5\", \"Topic5\", \"Topic5\", \"Topic5\", \"Topic5\", \"Topic5\", \"Topic5\", \"Topic6\", \"Topic6\", \"Topic6\", \"Topic6\", \"Topic6\", \"Topic6\", \"Topic6\", \"Topic6\", \"Topic6\", \"Topic6\", \"Topic6\", \"Topic6\", \"Topic6\", \"Topic6\", \"Topic6\", \"Topic6\", \"Topic6\", \"Topic6\", \"Topic6\", \"Topic6\", \"Topic6\", \"Topic6\", \"Topic6\", \"Topic6\", \"Topic6\", \"Topic6\", \"Topic6\", \"Topic6\", \"Topic6\", \"Topic6\", \"Topic6\", \"Topic6\", \"Topic6\", \"Topic6\", \"Topic6\", \"Topic6\", \"Topic6\", \"Topic6\", \"Topic6\", \"Topic6\", \"Topic6\", \"Topic6\", \"Topic6\", \"Topic6\", \"Topic6\", \"Topic6\", \"Topic6\", \"Topic6\", \"Topic6\", \"Topic7\", \"Topic7\", \"Topic7\", \"Topic7\", \"Topic7\", \"Topic7\", \"Topic7\", \"Topic7\", \"Topic7\", \"Topic7\", \"Topic7\", \"Topic7\", \"Topic7\", \"Topic7\", \"Topic7\", \"Topic7\", \"Topic7\", \"Topic7\", \"Topic7\", \"Topic7\", \"Topic7\", \"Topic7\", \"Topic7\", \"Topic7\", \"Topic7\", \"Topic7\", \"Topic7\", \"Topic7\", \"Topic7\", \"Topic7\", \"Topic7\", \"Topic7\", \"Topic7\", \"Topic7\", \"Topic7\", \"Topic7\", \"Topic7\", \"Topic7\", \"Topic7\", \"Topic7\", \"Topic7\", \"Topic7\", \"Topic7\", \"Topic8\", \"Topic8\", \"Topic8\", \"Topic8\", \"Topic8\", \"Topic8\", \"Topic8\", \"Topic8\", \"Topic8\", \"Topic8\", \"Topic8\", \"Topic8\", \"Topic8\", \"Topic8\", \"Topic8\", \"Topic8\", \"Topic8\", \"Topic8\", \"Topic8\", \"Topic8\", \"Topic8\", \"Topic8\", \"Topic8\", \"Topic8\", \"Topic8\", \"Topic8\", \"Topic8\", \"Topic8\", \"Topic8\", \"Topic8\", \"Topic8\", \"Topic8\", \"Topic8\", \"Topic8\", \"Topic8\", \"Topic8\", \"Topic8\", \"Topic8\", \"Topic8\", \"Topic8\", \"Topic8\", \"Topic8\", \"Topic8\", \"Topic8\", \"Topic8\", \"Topic8\", \"Topic9\", \"Topic9\", \"Topic9\", \"Topic9\", \"Topic9\", \"Topic9\", \"Topic9\", \"Topic9\", \"Topic9\", \"Topic9\", \"Topic9\", \"Topic9\", \"Topic9\", \"Topic9\", \"Topic9\", \"Topic9\", \"Topic9\", \"Topic9\", \"Topic9\", \"Topic9\", \"Topic9\", \"Topic9\", \"Topic9\", \"Topic9\", \"Topic9\", \"Topic9\", \"Topic9\", \"Topic9\", \"Topic9\", \"Topic9\", \"Topic9\", \"Topic9\", \"Topic9\", \"Topic9\", \"Topic9\", \"Topic9\", \"Topic9\", \"Topic9\", \"Topic9\", \"Topic9\", \"Topic9\", \"Topic9\", \"Topic9\", \"Topic9\", \"Topic9\", \"Topic10\", \"Topic10\", \"Topic10\", \"Topic10\", \"Topic10\", \"Topic10\", \"Topic10\", \"Topic10\", \"Topic10\", \"Topic10\", \"Topic10\", \"Topic10\", \"Topic10\", \"Topic10\", \"Topic10\", \"Topic10\", \"Topic10\", \"Topic10\", \"Topic10\", \"Topic10\", \"Topic10\", \"Topic10\", \"Topic10\", \"Topic10\", \"Topic10\", \"Topic10\", \"Topic10\", \"Topic10\", \"Topic10\", \"Topic10\", \"Topic10\", \"Topic10\", \"Topic10\", \"Topic10\", \"Topic10\", \"Topic10\", \"Topic10\", \"Topic10\", \"Topic10\", \"Topic10\"], \"Freq\": [1473.0, 2101.0, 2616.0, 1878.0, 1069.0, 1039.0, 846.0, 805.0, 727.0, 3332.0, 627.0, 487.0, 727.0, 1072.0, 1018.0, 1151.0, 562.0, 482.0, 709.0, 850.0, 1397.0, 586.0, 788.0, 1021.0, 435.0, 1124.0, 437.0, 424.0, 697.0, 871.0, 391.50894249490733, 365.5654044477446, 333.5073284272374, 328.33562174800613, 299.9169023847696, 244.2469136175798, 237.08799510093786, 231.4599017111849, 228.95583001609143, 215.93017582143742, 197.5238511129113, 187.2442387304334, 187.9868108253966, 176.8292091347118, 155.08431296350358, 153.22482844179885, 152.17017224989115, 152.1046730948398, 149.50602978812898, 143.610388063498, 137.83747306381056, 135.408712808248, 131.58186699855463, 102.36760506770442, 96.76461492936974, 139.55030133256957, 108.2901277503528, 137.10757307545273, 125.37998711719224, 144.4289173183583, 436.47495802551015, 463.743642881304, 469.43277132991875, 1893.634829816203, 313.86173636461734, 661.0606281637309, 282.74273609938376, 901.0034451083819, 487.2008006382213, 867.5462605421881, 682.737964666341, 615.5439515914952, 387.1168172042544, 376.93926236428825, 370.4574450963068, 482.23890085847495, 422.2321265908577, 394.59288675072645, 272.42542904654044, 291.3654454996854, 360.47635395468, 345.7290622706417, 336.8477415789135, 284.217003478244, 317.00473556308947, 288.49673614748986, 168.75559162078295, 341.2708531842036, 156.57230577159223, 124.81391171360994, 124.07691537395813, 122.95166437937239, 104.38215114279664, 411.5591662547885, 141.9824111844297, 104.2842782578733, 447.83520840543946, 105.13616547630649, 282.8470793963516, 373.12963805003363, 325.9657798220622, 177.11768335789046, 1720.0294916553898, 136.3040085866986, 85.54476656170853, 224.9735121578616, 156.70298641579467, 136.86104810800822, 97.03121680832903, 114.5498502352814, 163.21840034493084, 84.32358794528491, 135.78644620163587, 472.83921296546134, 176.63705195731285, 304.692135589326, 504.01295821585114, 389.19542013056713, 686.6786987202784, 328.7667563483207, 162.87081269362017, 207.06138650205494, 189.91860727074823, 301.0394161959536, 422.86774792024, 379.53243183577274, 432.44975163708125, 273.75611502035594, 312.2858858086084, 358.1129812560416, 376.34604681700984, 313.67017186542535, 222.58364598248355, 266.81392038598307, 248.8802562993681, 273.75045281360434, 249.0770101754596, 256.0592809599113, 292.51459085155545, 196.3320948676732, 166.85538470922666, 157.74988962164866, 121.13367218391241, 115.49679556624267, 113.33378814078246, 170.2090241226762, 308.3545895603264, 218.93310054712381, 151.21656130407692, 187.4998586713121, 332.6903352371723, 144.7699100938903, 126.71521100391159, 246.64346705319284, 150.39752052649354, 134.9081341503779, 164.38600193437904, 187.13455230023797, 108.47765193864193, 122.93140549291805, 169.81125575449036, 264.65627630646986, 111.00658343769105, 587.2252300983812, 83.4632822317887, 146.72272956464622, 316.79035582020776, 127.98537702822998, 799.410118904072, 846.147130177508, 332.3346339655654, 205.99197762379688, 154.41739204607845, 730.5695437790581, 705.6775704594482, 317.8275127729626, 249.72505732585748, 330.4125659881992, 293.5044124609203, 259.22829968406415, 366.58333647479134, 264.8310421395052, 200.78852023193375, 274.49129798690564, 311.1269407720003, 207.79169324410918, 269.30241466537063, 267.81115832421085, 310.3106463806689, 232.09300906890746, 293.4808503746814, 239.95159036150312, 313.10521967457726, 248.8943995451663, 213.42816693969357, 217.24388200063802, 230.60849334505815, 225.24772599370579, 254.95976515634973, 118.75334679230463, 429.8464253197637, 705.3765873996321, 137.83763131526086, 182.80827983146506, 354.23089407360214, 286.30431184195544, 89.23227088800606, 263.83913504298056, 89.1153630650293, 194.0426231978367, 200.1027207024282, 160.24575216273251, 148.74111054914474, 213.3148907053618, 141.04201975458963, 285.57757380873585, 364.41134978337715, 105.0350989009104, 91.51679623875285, 586.1886772971516, 109.54429316797761, 151.57610623794292, 168.90649849173815, 187.7963519461884, 294.3401643507429, 164.4670465904092, 1128.8318707421859, 277.3414535280689, 492.2226259779981, 362.5999405314069, 411.0186491544735, 292.70320951977754, 322.93261959302487, 395.1106215014217, 275.23949170195635, 208.27434786419366, 274.86137244389, 481.2529253833738, 239.9699467172386, 247.2626147346046, 378.2617822481461, 218.76716641250255, 209.2342118279934, 212.9497711406125, 436.3974655379259, 304.2552308637464, 159.471674004495, 140.75274389801098, 253.59665969123702, 108.63585152463436, 139.36586297326423, 104.96379840316531, 156.99674602701094, 1020.8371719023003, 344.5566017789142, 166.38091616599587, 524.092726692341, 138.64677322976158, 161.66230104387412, 91.00448064587172, 215.21372557412195, 187.2735843855503, 94.97269435438423, 119.98550575622532, 165.7728737897364, 171.04178079078642, 356.7122572251847, 267.0747423429488, 569.2699803473434, 302.50253821177927, 247.94109714320695, 330.467663743352, 91.9607260115756, 185.33650437907983, 405.473053626757, 243.33684697064328, 384.8217997933749, 232.19585140725806, 248.2487673637539, 186.97131782108758, 309.72329201754945, 312.77463003770424, 180.75316214605863, 222.85608973058618, 240.2867422181592, 193.91547955036492, 215.8918100005065, 198.1300852329473, 184.94480257511705, 726.4940427887427, 423.78449904336134, 380.76769546684744, 284.349981150648, 263.62947702415124, 200.82691719415084, 185.3713450415944, 174.2390375060861, 163.01267484009705, 140.49677446749044, 125.57754535972924, 112.23214414410684, 93.43681673754435, 141.02307444198783, 224.60800662201365, 399.4832868143986, 244.30098078483604, 114.5152295721713, 85.56046326819141, 160.27170894793784, 78.02615738836738, 164.17706021698766, 79.80296109266335, 142.2691380690737, 115.67177345280092, 110.67375466300159, 100.55776404269567, 110.71492158531468, 264.9475930874177, 104.17608638466233, 323.0864603658263, 213.48375298489265, 193.0724491146847, 214.35842925393982, 218.54391618389204, 324.62555872638256, 216.5230313263997, 253.52331560069845, 273.13556280871137, 312.71101922718543, 285.6490252900567, 180.44759455824547, 265.15362166936444, 201.64869316824272, 198.4635822298649, 259.3985763442804, 178.81875912288385, 199.63004165596845, 175.09131515053795, 237.75361971864635, 253.00442008560947, 172.71203955206806, 135.62640254272486, 260.5943634186026, 176.38106257506138, 228.4715740429929, 145.99403262205547, 802.3753685504041, 756.2397433080483, 115.37100735892444, 363.90868076807675, 262.68047708386257, 268.6098107730656, 122.41749509716024, 428.67445596132154, 377.5786740961336, 279.93479792482356, 92.14448790843606, 111.32486481248483, 99.37639772775985, 172.3256506104869, 119.509522768135, 355.43442667590375, 173.19826114176396, 143.8692965523758, 80.14301435306572, 80.57318765031188, 1382.6061892220519, 125.58613687235862, 220.03943783559484, 300.1806131619277, 447.8855234660503, 187.30727437995054, 219.1719109796354, 242.7752455373864, 148.32422516532682, 224.69561201363516, 200.26491025038945, 162.84122510429376, 179.9978889309341, 167.2028920023803, 168.1619850330024, 434.0832876905646, 337.33966212025183, 201.00748670316318, 200.24791938415598, 168.0789257813955, 164.42230196238714, 159.73767175725888, 124.52963056797947, 98.93774404208133, 550.6268040981731, 117.38750150623832, 197.47589261957373, 211.2476537698882, 163.78317136800544, 110.69804392545016, 155.55329294917752, 125.37597811987347, 264.0415203903204, 216.89781271835128, 98.02032789808342, 187.43788928562654, 86.16109704327752, 103.1249310644005, 147.64604148133614, 782.8203344267195, 187.3410241390927, 64.58720571277063, 89.19645130188361, 196.27759905897372, 377.9549721677777, 313.0863489875539, 226.3311877803395, 168.8021731518462, 171.95839079328664, 196.43154119632936, 341.4134216556184, 178.2821409335862, 321.29495681569216, 162.53605198660452, 172.1686662465597, 186.06311405786184, 195.8601443783278, 198.63306303074586, 188.14585107889144, 169.56085365728734, 168.31022001195845, 247.61937484902532, 182.81661566457083, 160.7928855399937, 121.75840044839867, 134.45129627937922, 122.95882683164524, 621.8057063082628, 221.1016567764276, 133.8036807236249, 263.104580096238, 167.73131970377878, 141.5029572869772, 265.23837433913064, 203.43271156291084, 104.9770980665194, 1191.1216909956297, 126.82095815357448, 182.87518875138448, 105.11797696704062, 112.90079057357381, 131.38856617787334, 128.6834674326132, 94.43213812352876, 79.37369054475273, 140.53109639709263, 157.33281275519786, 109.60218981295415, 93.55908207800405, 172.5450089062444, 132.8398230157941, 152.15741590256, 206.3000911854003, 177.9092200207836, 256.6388879338859, 247.7573657925593, 232.33836116912022, 209.27400006628076, 217.64999255695972, 141.14562494384498, 153.63272613902157, 136.00919643969115, 147.51260289410362, 139.88281562330462, 135.85665700831578, 135.67142652207065, 204.24218356528147, 180.22486603865485, 180.76414396281567, 164.06991171219894, 158.0128832016863, 128.17580214789285, 131.32898777799272, 484.037988925291, 274.4052670919328, 173.17893284412634, 294.5499328497921, 181.21474380022607, 265.3556893184935, 370.4219743483551, 184.58914978888444, 97.25285109639293, 178.6516101359617, 246.73829453778902, 106.32349883898152, 102.69639512679606, 92.58885439468526, 107.12248234334356, 96.36375011189247, 182.66532931688147, 110.10549165203783, 86.16114250891984, 101.3061928057929, 143.69865726004224, 102.55774603240472, 170.73303992046974, 128.01623758310873, 143.19724674950515, 163.14345676820986, 155.2179025567509, 180.75152676735516, 217.59494534879167, 122.56193059224829, 144.3771589968027, 115.00552297236372, 116.51582792355963], \"Term\": [\"soil\", \"species\", \"water\", \"climate\", \"carbon\", \"ocean\", \"sediment\", \"river\", \"fault\", \"data\", \"plant\", \"rocks\", \"precipitation\", \"snow\", \"project\", \"research\", \"mantle\", \"crust\", \"management\", \"vegetation\", \"change\", \"biomass\", \"production\", \"environmental\", \"wave\", \"rates\", \"microbial\", \"slip\", \"basin\", \"variability\", \"remote\", \"spectral\", \"optical\", \"sensing\", \"algorithm\", \"microwave\", \"color\", \"modis\", \"band\", \"accuracy\", \"imaging\", \"algorithms\", \"infrared\", \"sensors\", \"retrieval\", \"scattering\", \"airborne\", \"sensor\", \"absorption\", \"lidar\", \"validation\", \"visible\", \"images\", \"cdom\", \"lst\", \"spectra\", \"passive\", \"mission\", \"image\", \"parameter\", \"satellite\", \"method\", \"resolution\", \"data\", \"products\", \"snow\", \"parameters\", \"using\", \"vegetation\", \"model\", \"based\", \"surface\", \"cover\", \"observations\", \"measurements\", \"used\", \"spatial\", \"analysis\", \"moisture\", \"approach\", \"models\", \"time\", \"results\", \"land\", \"water\", \"high\", \"dispersal\", \"risk\", \"connectivity\", \"fecal\", \"individuals\", \"disease\", \"deforestation\", \"population\", \"mortality\", \"genetic\", \"habitat\", \"survival\", \"populations\", \"urban\", \"tree\", \"trees\", \"species\", \"host\", \"selection\", \"states\", \"united\", \"heterogeneity\", \"protected\", \"richness\", \"abundance\", \"demand\", \"health\", \"energy\", \"density\", \"human\", \"land\", \"areas\", \"use\", \"forest\", \"variables\", \"landscape\", \"individual\", \"growth\", \"models\", \"based\", \"model\", \"area\", \"analysis\", \"results\", \"using\", \"spatial\", \"level\", \"california\", \"environmental\", \"study\", \"effects\", \"used\", \"data\", \"fisheries\", \"kelp\", \"social\", \"fishery\", \"fishing\", \"sustainable\", \"scientific\", \"restoration\", \"public\", \"fish\", \"effort\", \"program\", \"international\", \"adaptation\", \"policy\", \"issues\", \"implementation\", \"benefits\", \"economic\", \"technology\", \"challenges\", \"planning\", \"science\", \"decision\", \"management\", \"giant\", \"services\", \"ucsb\", \"review\", \"project\", \"research\", \"conservation\", \"barbara\", \"efforts\", \"change\", \"climate\", \"development\", \"develop\", \"systems\", \"natural\", \"future\", \"environmental\", \"marine\", \"support\", \"ecosystem\", \"global\", \"santa\", \"provide\", \"understanding\", \"california\", \"work\", \"use\", \"impacts\", \"data\", \"changes\", \"ecological\", \"potential\", \"monsoon\", \"snowmelt\", \"winter\", \"interannual\", \"rainfall\", \"precipitation\", \"spring\", \"streamflow\", \"seasonal\", \"summer\", \"wildfire\", \"warming\", \"snowpack\", \"hydrologic\", \"extreme\", \"america\", \"atlantic\", \"tropical\", \"wet\", \"season\", \"annual\", \"forcing\", \"runoff\", \"variability\", \"american\", \"climatic\", \"drought\", \"mountain\", \"events\", \"trends\", \"climate\", \"year\", \"changes\", \"vegetation\", \"snow\", \"forest\", \"temperature\", \"change\", \"patterns\", \"period\", \"southern\", \"water\", \"south\", \"years\", \"model\", \"western\", \"regional\", \"california\", \"microbial\", \"oil\", \"nanomaterials\", \"organisms\", \"biogeochemical\", \"lca\", \"bacterial\", \"coral\", \"particles\", \"carbon\", \"phytoplankton\", \"export\", \"biomass\", \"nano\", \"toxicity\", \"dioxide\", \"particle\", \"matter\", \"fate\", \"synthesis\", \"stability\", \"cycling\", \"organic\", \"emissions\", \"production\", \"cycle\", \"communities\", \"diversity\", \"release\", \"dissolved\", \"community\", \"life\", \"environmental\", \"primary\", \"marine\", \"biological\", \"processes\", \"effects\", \"productivity\", \"ecosystem\", \"global\", \"size\", \"changes\", \"growth\", \"ecosystems\", \"fault\", \"slip\", \"earthquake\", \"rupture\", \"faults\", \"uplift\", \"margin\", \"earthquakes\", \"holocene\", \"deposits\", \"sheet\", \"recharge\", \"antarctic\", \"geologic\", \"glacial\", \"ice\", \"motion\", \"gulf\", \"normal\", \"east\", \"geometry\", \"valley\", \"shelf\", \"structures\", \"fold\", \"rise\", \"adjacent\", \"west\", \"age\", \"dating\", \"sea\", \"northern\", \"late\", \"active\", \"sierra\", \"basin\", \"north\", \"rate\", \"southern\", \"rates\", \"new\", \"ground\", \"california\", \"south\", \"central\", \"data\", \"formation\", \"time\", \"seismic\", \"floodplain\", \"lakes\", \"rivers\", \"streams\", \"groundwater\", \"discharge\", \"methane\", \"downstream\", \"sediment\", \"river\", \"column\", \"lake\", \"amazon\", \"stream\", \"flood\", \"channel\", \"erosion\", \"flux\", \"subsurface\", \"fluvial\", \"slope\", \"gas\", \"flows\", \"flow\", \"watershed\", \"supply\", \"bay\", \"incision\", \"water\", \"basins\", \"transport\", \"basin\", \"rates\", \"concentrations\", \"measurements\", \"surface\", \"landscape\", \"high\", \"time\", \"lower\", \"processes\", \"study\", \"using\", \"wave\", \"isotopic\", \"waves\", \"oceanic\", \"compositions\", \"plume\", \"magma\", \"plumes\", \"inclusions\", \"mantle\", \"signatures\", \"trace\", \"element\", \"geochemical\", \"isotopes\", \"elements\", \"fluid\", \"isotope\", \"lavas\", \"bubble\", \"ratios\", \"velocities\", \"upwelling\", \"sample\", \"ocean\", \"melt\", \"assimilation\", \"island\", \"velocity\", \"source\", \"samples\", \"seismic\", \"volcanic\", \"phase\", \"composition\", \"high\", \"earth\", \"data\", \"mass\", \"depth\", \"observed\", \"low\", \"surface\", \"new\", \"values\", \"coastal\", \"soils\", \"litter\", \"decomposition\", \"nps\", \"grassland\", \"grass\", \"plant\", \"leaf\", \"acid\", \"nanoparticles\", \"uptake\", \"treatment\", \"plants\", \"native\", \"oxide\", \"soil\", \"cell\", \"nitrogen\", \"root\", \"metal\", \"exposed\", \"removal\", \"did\", \"crop\", \"showed\", \"stress\", \"growing\", \"content\", \"exposure\", \"reduced\", \"dry\", \"increased\", \"effect\", \"effects\", \"water\", \"species\", \"results\", \"high\", \"significantly\", \"conditions\", \"activity\", \"surface\", \"potential\", \"rates\", \"higher\", \"metamorphic\", \"himalayan\", \"monazite\", \"metamorphism\", \"exhumation\", \"tibetan\", \"orogen\", \"rocks\", \"zircon\", \"himalaya\", \"crustal\", \"dates\", \"shear\", \"crust\", \"subduction\", \"extension\", \"thermal\", \"deformation\", \"strain\", \"cooling\", \"mineral\", \"middle\", \"pre\", \"pressure\", \"grain\", \"thrust\", \"zones\", \"structural\", \"core\", \"ages\", \"plateau\", \"continental\", \"evolution\", \"zone\", \"temperature\", \"high\", \"temperatures\", \"lower\", \"formation\", \"flow\"], \"Total\": [1473.0, 2101.0, 2616.0, 1878.0, 1069.0, 1039.0, 846.0, 805.0, 727.0, 3332.0, 627.0, 487.0, 727.0, 1072.0, 1018.0, 1151.0, 562.0, 482.0, 709.0, 850.0, 1397.0, 586.0, 788.0, 1021.0, 435.0, 1124.0, 437.0, 424.0, 697.0, 871.0, 392.43828976252115, 366.4874839094762, 334.4290308647773, 329.2562250501998, 300.8372681623653, 245.16717970156844, 238.008314395068, 232.38014935267725, 229.87692062108096, 216.85080363045395, 198.44523634557333, 188.16448377598695, 188.91804377516803, 177.74968533624198, 156.0045361541243, 154.14571105755567, 153.09083129941527, 153.02498503954249, 150.42641700893546, 144.53363864957458, 138.75785724523408, 136.32988700173192, 132.52228779451082, 103.2878959014919, 97.68487720441422, 141.29454147878573, 113.2226145712199, 143.48688372429368, 132.23764159357106, 152.60377535439815, 466.0665026003199, 548.8314944299785, 577.4590415193982, 3332.0541448666927, 405.8029254605089, 1072.913736868762, 374.057567266903, 1956.0482405890107, 850.98165714858, 2277.7262308257814, 1617.2173649957595, 1498.9269437662713, 704.6609407671842, 683.923804050312, 775.4640100450586, 1312.7538498691033, 1240.562545592942, 1131.0915590638733, 554.2843376935101, 691.6473006096141, 1405.6081421809101, 1332.7115612403047, 1591.8675826019573, 976.3280491834327, 2616.6632829718346, 1853.2552479319752, 169.71079351154987, 343.26465580982864, 157.4939211573843, 125.72245079828423, 124.98885794807096, 123.86099135588422, 105.29384354465725, 415.42184379924134, 143.42102011455412, 105.41569667615613, 478.03238326999235, 113.95046751005843, 314.69932723152124, 418.88058679520384, 387.3518197557844, 212.87677474706715, 2101.6117500541864, 173.85536552098404, 111.82274371123458, 308.47444703723266, 221.32638842072924, 201.40736266287647, 142.85514845761483, 169.1848250694276, 244.32464410117353, 126.48689896200064, 206.69833039998255, 724.0611009429173, 271.96556125977685, 490.62375216307197, 976.3280491834327, 738.2118124383536, 1499.3311045085636, 648.4182568651995, 268.81576855826324, 388.3961811844394, 346.3511773757846, 754.3278212873163, 1405.6081421809101, 1617.2173649957595, 2277.7262308257814, 824.4698560650344, 1131.0915590638733, 1591.8675826019573, 1956.0482405890107, 1240.562545592942, 650.4150984716352, 1239.0521039696775, 1021.6290107830878, 1532.5441708847488, 1078.2610945662648, 1312.7538498691033, 3332.0541448666927, 197.2419993718024, 167.76669923475714, 158.71273249212413, 122.0435087748235, 116.40664033366929, 114.26301829020254, 172.14823277120044, 313.8834079549156, 224.32670063611167, 157.2858807441728, 196.37394769085674, 348.68665299838864, 152.70140539949998, 134.22150139066787, 261.9374464410318, 160.15310910165135, 147.43712454613373, 181.09289531355438, 214.02871124988883, 128.2259162805519, 146.01238420647428, 202.12109383847533, 317.7976581113463, 133.56857005031364, 709.4610478516345, 102.55316441038336, 182.60955610608758, 394.59506402834444, 161.34787550541265, 1018.7065201187876, 1151.1638191921238, 443.6506554689001, 282.4627968042238, 199.02605376224216, 1397.4883529731226, 1878.913558474916, 600.1824430945474, 428.34182820907034, 750.01842733084, 634.8498171517579, 510.70149550087007, 1021.6290107830878, 599.9420900180634, 319.98587802034587, 718.6759006744494, 1012.7335067282895, 357.54137370510176, 768.5091772401213, 774.3848133258685, 1239.0521039696775, 534.9532478300999, 1499.3311045085636, 676.8162316476139, 3332.0541448666927, 1257.2776201709096, 462.7848700638208, 867.6604632020752, 231.51902368304454, 226.15797555045248, 256.5248914254262, 119.90546301880104, 437.64779141873896, 727.0163770048854, 145.1722507979139, 204.49837142752466, 400.3463128192307, 331.28568960728114, 104.20446129885599, 313.3890608917682, 107.74780402392047, 243.1640842143592, 251.2267750808952, 202.76748334371013, 190.7114179808971, 278.7151404467653, 185.3390375322815, 380.7743306442066, 506.96360874375165, 146.5361415191119, 129.67570947791043, 871.0739640906985, 163.72119225272243, 228.37528987673116, 255.46543470969607, 285.6438201603331, 464.21259217589403, 265.58919559925494, 1878.913558474916, 552.3705010106347, 1257.2776201709096, 850.98165714858, 1072.913736868762, 648.4182568651995, 846.3963839152905, 1397.4883529731226, 703.9868710496362, 398.7127749611792, 737.1991540807504, 2616.6632829718346, 555.336738933728, 626.314705831233, 2277.7262308257814, 470.93487443013254, 575.6312953666406, 1239.0521039696775, 437.3044195345803, 305.16451111401733, 160.37676665991734, 141.6775623438405, 256.6315047834811, 110.55314271433782, 141.85676701080544, 109.63561363244251, 164.00650949045044, 1069.0662243480253, 361.3758465421836, 182.25015283384715, 586.4898964861699, 155.70990828454518, 182.60480703508887, 107.12700497375164, 255.43588129544244, 228.29845302228196, 116.42959398949638, 147.3112541851037, 204.82168095832387, 223.68215783898657, 471.09495208119023, 366.65612533199203, 788.4823970120821, 442.561427857654, 364.4958987832514, 497.84332968467237, 140.9190705226659, 285.57103261886203, 658.627531649403, 420.57391069523453, 1021.6290107830878, 474.1965662137639, 599.9420900180634, 340.3317872757884, 1012.7863223068232, 1078.2610945662648, 332.74324178868005, 718.6759006744494, 1012.7335067282895, 547.4695805814581, 1257.2776201709096, 754.3278212873163, 578.7116789750382, 727.427664386728, 424.7117633588527, 381.6920484489526, 285.27374824528357, 264.55413803576147, 201.75130752307135, 186.2951905624709, 175.1693873693942, 163.9385348295017, 141.420786691893, 126.50658471319332, 113.15622118235406, 94.3854031991722, 147.9098980060451, 239.59511051431633, 435.8990480874313, 268.3992476173424, 135.55924085776408, 111.10013603467947, 211.43513274515587, 103.40879856014386, 217.85124242544, 108.13466062065345, 203.17898716146283, 169.317702387402, 166.9213363606322, 153.14853833562267, 169.7366822715573, 407.13864042969755, 161.23950816372704, 521.2089385313134, 343.3966200419902, 331.60675808190973, 390.5773286039654, 411.1823556724175, 697.6562467171497, 446.0713424192601, 638.4119847340081, 737.1991540807504, 1124.3265481547103, 1188.7717423158754, 377.62369447966205, 1239.0521039696775, 555.336738933728, 592.959911526161, 3332.0541448666927, 397.7723079250129, 1332.7115612403047, 402.25476762377195, 238.67132310123483, 254.3125254353766, 173.62988313679176, 136.70573336603522, 262.69579945101026, 179.53660106463636, 235.99415626130823, 152.06608091254068, 846.8694202075275, 805.6418422303617, 124.91122830703651, 394.2326100822515, 289.3741980495564, 301.65965585636474, 137.77124928244774, 507.7061512059215, 470.8478347310815, 355.5140711928617, 140.3559023215069, 172.62794895050558, 158.99158026802786, 282.1603438772924, 197.21402754219426, 597.1137817365876, 294.4905935047261, 261.22324183926764, 148.91914191262777, 150.33272772388787, 2616.6632829718346, 242.54726296002383, 464.3508861359556, 697.6562467171497, 1124.3265481547103, 512.7898270149535, 775.4640100450586, 1498.9269437662713, 388.3961811844394, 1853.2552479319752, 1332.7115612403047, 575.4976340725124, 1012.7863223068232, 1532.5441708847488, 1956.0482405890107, 435.02044531921155, 338.2662242193059, 201.9317238273303, 201.1717844419044, 169.00612972343353, 165.3463770523496, 160.6618036245528, 125.51088168625702, 99.86129666683755, 562.3494134039141, 120.95748978847904, 208.80224768785277, 226.7933258151155, 175.92759782761306, 120.21596615221085, 170.6128373943238, 138.35799439353636, 297.7574941073058, 246.4051944733972, 113.99383657642994, 223.11722570679598, 106.67998783915472, 131.5047971158181, 193.3557663642173, 1039.3613153602857, 270.1712578959097, 101.78310342584345, 145.4223938473936, 322.904067322199, 662.3116908434586, 549.6472594250291, 402.25476762377195, 300.95410124582537, 328.05846389687474, 453.88116462672554, 1853.2552479319752, 423.5858880985771, 3332.0541448666927, 351.25344588576417, 450.77633500767746, 622.415816671383, 792.2424628320312, 1498.9269437662713, 1188.7717423158754, 451.89465468149314, 555.9010485387687, 248.5792226559325, 183.71902804733924, 161.93170749089546, 122.66078280219266, 135.46551303283476, 123.90120459045156, 627.0788806862591, 230.1274913722052, 140.2657140534844, 282.59746709616377, 187.0363193821039, 158.2220605260635, 303.4762951481155, 242.384702119305, 125.3399555012174, 1473.448586423027, 163.35457669789554, 241.32379139612277, 141.43100671149287, 156.7542754005695, 204.66362363132868, 213.9388967018188, 174.55570709961447, 150.35207309677625, 272.1543712502039, 304.82668893771717, 212.7977955244446, 181.82368850023664, 356.8179590487803, 288.89300019760543, 331.4739074562712, 598.7140802271123, 544.4453615272965, 1078.2610945662648, 2616.6632829718346, 2101.6117500541864, 1591.8675826019573, 1853.2552479319752, 389.5651260119026, 819.4584809415576, 357.0791153554445, 1498.9269437662713, 867.6604632020752, 1124.3265481547103, 612.2842548684838, 205.1621273696998, 181.14327812445447, 181.68815594057983, 164.98931502763003, 158.93102634160434, 129.093978144874, 132.29959428330505, 487.63833225961554, 277.38793755402423, 183.3316974693485, 345.06055801832485, 220.89232112733816, 336.29370162035445, 482.5750860219903, 252.76112971876285, 134.4749739131428, 261.4090639158395, 377.0980621401689, 163.71430967340387, 161.88340175829106, 148.44048001829793, 176.51805039915027, 161.9430565117692, 321.85988511907624, 194.1030554411554, 152.0248799565412, 179.99905870573627, 255.88859130668683, 183.19428801252576, 307.13232779809505, 231.7628108571209, 332.6613164023405, 435.67611362836067, 463.41973455260836, 846.3963839152905, 1853.2552479319752, 298.8485250710575, 575.4976340725124, 397.7723079250129, 597.1137817365876], \"loglift\": [30.0, 29.0, 28.0, 27.0, 26.0, 25.0, 24.0, 23.0, 22.0, 21.0, 20.0, 19.0, 18.0, 17.0, 16.0, 15.0, 14.0, 13.0, 12.0, 11.0, 10.0, 9.0, 8.0, 7.0, 6.0, 5.0, 4.0, 3.0, 2.0, 1.0, 1.9279, 1.9277, 1.9275, 1.9274, 1.9272, 1.9265, 1.9264, 1.9263, 1.9262, 1.926, 1.9256, 1.9253, 1.9253, 1.925, 1.9243, 1.9242, 1.9242, 1.9242, 1.9241, 1.9238, 1.9236, 1.9234, 1.9231, 1.9213, 1.9208, 1.9178, 1.8857, 1.8848, 1.877, 1.8752, 1.8646, 1.7618, 1.7231, 1.3651, 1.6733, 1.4459, 1.6504, 1.1551, 1.3725, 0.965, 1.0679, 1.0402, 1.3312, 1.3345, 1.1915, 0.9288, 0.8525, 0.8771, 1.2199, 1.0657, 0.5694, 0.5809, 0.3772, 0.6962, -0.1805, 0.0702, 2.0004, 2.0003, 2.0002, 1.9988, 1.9988, 1.9987, 1.9974, 1.9967, 1.996, 1.9953, 1.9408, 1.9256, 1.8994, 1.8904, 1.8335, 1.8222, 1.8057, 1.7627, 1.7382, 1.6904, 1.6608, 1.6197, 1.6193, 1.6161, 1.6027, 1.6006, 1.5859, 1.58, 1.5745, 1.5297, 1.3449, 1.3659, 1.2252, 1.3269, 1.505, 1.3771, 1.4052, 1.0875, 0.8049, 0.5566, 0.3446, 0.9036, 0.7191, 0.5143, 0.3579, 0.6311, 0.9338, 0.4705, 0.5939, 0.2836, 0.5407, 0.3716, -0.4268, 2.1346, 2.1338, 2.1332, 2.1318, 2.1314, 2.1311, 2.1279, 2.1215, 2.1149, 2.0999, 2.093, 2.0923, 2.0859, 2.0817, 2.0791, 2.0764, 2.0504, 2.0425, 2.005, 1.972, 1.9672, 1.9651, 1.9563, 1.9542, 1.9501, 1.9333, 1.9204, 1.9196, 1.9076, 1.8968, 1.8314, 1.8503, 1.8235, 1.8855, 1.4906, 1.16, 1.5035, 1.5997, 1.3195, 1.3677, 1.4612, 1.1143, 1.3215, 1.6732, 1.1768, 0.959, 1.5965, 1.0906, 1.0775, 0.7547, 1.3042, 0.5083, 1.1023, -0.2256, 0.5196, 1.3653, 0.7545, 2.1985, 2.1984, 2.1964, 2.1928, 2.1845, 2.1723, 2.1506, 2.0904, 2.0801, 2.0566, 2.0474, 2.0304, 2.0126, 1.9768, 1.975, 1.9671, 1.9539, 1.9351, 1.9294, 1.9148, 1.8723, 1.8695, 1.854, 1.8064, 1.8006, 1.7926, 1.7887, 1.7831, 1.7469, 1.7232, 1.693, 1.5135, 1.2647, 1.3494, 1.243, 1.4071, 1.2389, 0.9392, 1.2634, 1.5531, 1.2159, 0.5092, 1.3634, 1.2731, 0.4071, 1.4358, 1.1905, 0.4414, 2.2998, 2.2989, 2.2962, 2.2954, 2.29, 2.2844, 2.2842, 2.2584, 2.2582, 2.2557, 2.2542, 2.2108, 2.1894, 2.1858, 2.1801, 2.1388, 2.1306, 2.1038, 2.0982, 2.0967, 2.0904, 2.0336, 2.0238, 1.985, 1.9762, 1.9214, 1.9166, 1.8921, 1.8751, 1.8696, 1.8168, 1.7547, 1.3255, 1.5879, 1.4195, 1.7029, 1.1171, 1.0643, 1.6917, 1.131, 0.8633, 1.264, 0.54, 0.965, 1.1612, 2.3563, 2.3554, 2.3551, 2.3543, 2.354, 2.353, 2.3526, 2.3522, 2.3519, 2.351, 2.3502, 2.3493, 2.3474, 2.3099, 2.293, 2.2703, 2.2635, 2.1888, 2.0963, 2.0805, 2.0759, 2.0747, 2.0537, 2.0012, 1.9765, 1.9466, 1.9369, 1.9303, 1.9279, 1.9207, 1.8793, 1.8822, 1.8167, 1.7576, 1.7255, 1.5925, 1.6348, 1.434, 1.3647, 1.0779, 0.9316, 1.6191, 0.8158, 1.3445, 1.263, -0.1954, 1.558, 0.459, 1.5258, 2.3732, 2.3719, 2.3718, 2.3691, 2.369, 2.3593, 2.3447, 2.3363, 2.3231, 2.3138, 2.2976, 2.297, 2.2803, 2.261, 2.2589, 2.2079, 2.1563, 2.1381, 1.9563, 1.9384, 1.9071, 1.884, 1.8762, 1.8583, 1.8463, 1.7806, 1.7575, 1.7534, 1.7391, 1.7189, 1.6302, 1.5337, 1.4567, 1.37, 1.1135, 0.5567, 1.4144, 0.2671, 0.4817, 1.1146, 0.6496, 0.1616, -0.0767, 2.3917, 2.3911, 2.3893, 2.3892, 2.3883, 2.3882, 2.3881, 2.386, 2.3846, 2.3728, 2.3639, 2.3381, 2.3228, 2.3223, 2.3114, 2.3014, 2.2953, 2.2737, 2.2663, 2.2429, 2.2196, 2.1802, 2.1507, 2.1241, 2.1104, 2.0277, 1.939, 1.905, 1.896, 1.8329, 1.831, 1.8188, 1.8156, 1.7479, 1.5563, 0.7022, 1.5285, 0.0549, 1.6232, 1.4313, 1.1863, 0.9964, 0.3728, 0.5504, 1.4136, 1.1991, 2.6846, 2.6836, 2.6815, 2.6811, 2.681, 2.6809, 2.6801, 2.6485, 2.6413, 2.617, 2.5796, 2.5768, 2.5538, 2.5133, 2.5112, 2.4758, 2.4354, 2.4112, 2.3918, 2.3603, 2.2453, 2.1802, 2.0741, 2.0497, 2.0276, 2.0271, 2.025, 2.0241, 1.9619, 1.9116, 1.9099, 1.6231, 1.57, 1.2531, 0.3313, 0.4862, 0.6595, 0.5467, 1.6733, 1.0144, 1.7233, 0.3699, 0.8635, 0.5752, 1.1816, 3.0901, 3.0895, 3.0895, 3.089, 3.0888, 3.0874, 3.0872, 3.0871, 3.0837, 3.0376, 2.9363, 2.8966, 2.8576, 2.8301, 2.7802, 2.7705, 2.7139, 2.6704, 2.6629, 2.6395, 2.6225, 2.5951, 2.5754, 2.5281, 2.5276, 2.5267, 2.5197, 2.5175, 2.5144, 2.5074, 2.501, 2.2517, 2.1123, 2.0007, 1.5507, 0.9525, 2.2032, 1.7117, 1.8537, 1.4605], \"logprob\": [30.0, 29.0, 28.0, 27.0, 26.0, 25.0, 24.0, 23.0, 22.0, 21.0, 20.0, 19.0, 18.0, 17.0, 16.0, 15.0, 14.0, 13.0, 12.0, 11.0, 10.0, 9.0, 8.0, 7.0, 6.0, 5.0, 4.0, 3.0, 2.0, 1.0, -4.7332, -4.8018, -4.8936, -4.9092, -4.9997, -5.205, -5.2348, -5.2588, -5.2697, -5.3283, -5.4174, -5.4708, -5.4669, -5.528, -5.6593, -5.6713, -5.6782, -5.6787, -5.6959, -5.7361, -5.7771, -5.7949, -5.8236, -6.0747, -6.1309, -5.7648, -6.0184, -5.7825, -5.8719, -5.7304, -4.6245, -4.5639, -4.5517, -3.157, -4.9543, -4.2094, -5.0587, -3.8997, -4.5145, -3.9376, -4.1771, -4.2807, -4.7445, -4.7711, -4.7885, -4.5248, -4.6577, -4.7254, -5.0959, -5.0286, -4.8158, -4.8576, -4.8836, -5.0535, -4.9443, -5.0385, -5.4989, -4.7947, -5.5739, -5.8006, -5.8065, -5.8156, -5.9793, -4.6074, -5.6717, -5.9803, -4.523, -5.9721, -4.9825, -4.7055, -4.8406, -5.4506, -3.1773, -5.7125, -6.1783, -5.2114, -5.573, -5.7084, -6.0523, -5.8864, -5.5323, -6.1927, -5.7163, -4.4686, -5.4533, -4.9081, -4.4048, -4.6633, -4.0955, -4.832, -5.5344, -5.2944, -5.3808, -4.9201, -4.5803, -4.6884, -4.5579, -5.0151, -4.8835, -4.7465, -4.6969, -4.879, -5.2221, -5.0408, -5.1104, -5.0152, -5.1096, -5.082, -4.9489, -5.2144, -5.3771, -5.4332, -5.6973, -5.745, -5.7639, -5.3572, -4.763, -5.1054, -5.4755, -5.2604, -4.687, -5.5191, -5.6523, -4.9863, -5.4809, -5.5896, -5.392, -5.2624, -5.8077, -5.6826, -5.3595, -4.9158, -5.7846, -4.1188, -6.0698, -5.5057, -4.736, -5.6423, -3.8103, -3.7535, -4.6881, -5.1664, -5.4546, -3.9004, -3.9351, -4.7327, -4.9738, -4.6939, -4.8123, -4.9365, -4.59, -4.9151, -5.192, -4.8793, -4.754, -5.1577, -4.8984, -4.9039, -4.7566, -5.0471, -4.8124, -5.0138, -4.7477, -4.9772, -5.1309, -5.1132, -4.9902, -5.0138, -4.8899, -5.6539, -4.3675, -3.8722, -5.5049, -5.2225, -4.561, -4.7739, -5.9397, -4.8556, -5.941, -5.1629, -5.1321, -5.3543, -5.4288, -5.0682, -5.4819, -4.7765, -4.5327, -5.7767, -5.9144, -4.0573, -5.7346, -5.4099, -5.3016, -5.1956, -4.7462, -5.3283, -3.402, -4.8057, -4.232, -4.5377, -4.4123, -4.7518, -4.6535, -4.4518, -4.8133, -5.0921, -4.8147, -4.2546, -4.9505, -4.9205, -4.4954, -5.043, -5.0875, -5.0699, -4.253, -4.6137, -5.2597, -5.3845, -4.7958, -5.6435, -5.3944, -5.6779, -5.2753, -3.4032, -4.4893, -5.2173, -4.0699, -5.3996, -5.246, -5.8206, -4.9599, -5.099, -5.778, -5.5442, -5.2209, -5.1896, -4.4546, -4.744, -3.9872, -4.6195, -4.8184, -4.531, -5.8102, -5.1094, -4.3265, -4.8371, -4.3788, -4.884, -4.8171, -5.1006, -4.5959, -4.5861, -5.1344, -4.925, -4.8497, -5.0641, -4.9568, -5.0426, -5.1115, -3.6877, -4.2267, -4.3337, -4.6257, -4.7014, -4.9735, -5.0535, -5.1155, -5.1821, -5.3307, -5.443, -5.5553, -5.7386, -5.327, -4.8615, -4.2857, -4.7775, -5.5352, -5.8267, -5.199, -5.9189, -5.175, -5.8963, -5.3182, -5.5251, -5.5693, -5.6652, -5.5689, -4.6964, -5.6298, -4.498, -4.9123, -5.0128, -4.9083, -4.8889, -4.4932, -4.8982, -4.7405, -4.6659, -4.5306, -4.6211, -5.0805, -4.6956, -4.9694, -4.9853, -4.7175, -5.0895, -4.9794, -5.1106, -4.7851, -4.723, -5.1048, -5.3465, -4.6934, -5.0837, -4.825, -5.2728, -3.5688, -3.628, -5.5082, -4.3595, -4.6854, -4.6631, -5.4489, -4.1957, -4.3226, -4.6218, -5.733, -5.5439, -5.6575, -5.107, -5.473, -4.383, -5.1019, -5.2875, -5.8726, -5.8672, -3.0247, -5.4234, -4.8626, -4.552, -4.1518, -5.0236, -4.8665, -4.7642, -5.257, -4.8416, -4.9567, -5.1636, -5.0634, -5.1372, -5.1315, -4.1664, -4.4185, -4.9363, -4.9401, -5.1152, -5.1372, -5.1661, -5.4151, -5.6451, -3.9286, -5.4741, -4.954, -4.8866, -5.1411, -5.5328, -5.1926, -5.4083, -4.6635, -4.8602, -5.6544, -5.0062, -5.7834, -5.6037, -5.2448, -3.5767, -5.0067, -6.0716, -5.7488, -4.9601, -4.3048, -4.4931, -4.8176, -5.1109, -5.0924, -4.9593, -4.4065, -5.0562, -4.4672, -5.1487, -5.0911, -5.0135, -4.9622, -4.9481, -5.0024, -5.1064, -5.1138, -4.433, -4.7365, -4.8648, -5.1429, -5.0437, -5.1331, -3.5123, -4.5463, -5.0486, -4.3724, -4.8226, -4.9926, -4.3643, -4.6296, -5.2912, -2.8623, -5.1022, -4.7361, -5.2899, -5.2184, -5.0668, -5.0876, -5.3971, -5.5708, -4.9995, -4.8866, -5.2481, -5.4063, -4.7943, -5.0558, -4.92, -4.6156, -4.7637, -4.3973, -4.4325, -4.4967, -4.6013, -4.5621, -4.9951, -4.9104, -5.0322, -4.951, -5.0041, -5.0333, -5.0347, -4.2196, -4.3447, -4.3417, -4.4386, -4.4762, -4.6855, -4.6612, -3.3567, -3.9243, -4.3846, -3.8535, -4.3392, -3.9578, -3.6243, -4.3208, -4.9616, -4.3535, -4.0306, -4.8724, -4.9071, -5.0107, -4.8649, -4.9708, -4.3312, -4.8375, -5.0827, -4.9208, -4.5712, -4.9085, -4.3988, -4.6867, -4.5747, -4.4443, -4.4941, -4.3418, -4.1563, -4.7303, -4.5665, -4.7939, -4.7809]}, \"token.table\": {\"Topic\": [1, 2, 5, 7, 1, 5, 9, 1, 5, 6, 7, 9, 10, 2, 3, 4, 5, 6, 7, 8, 9, 3, 9, 1, 2, 6, 7, 8, 2, 6, 8, 10, 6, 10, 1, 1, 1, 1, 2, 7, 2, 3, 4, 6, 7, 2, 3, 4, 6, 8, 1, 2, 3, 4, 5, 6, 7, 8, 9, 10, 2, 3, 4, 7, 9, 6, 1, 2, 3, 5, 6, 7, 8, 9, 1, 2, 4, 5, 6, 7, 9, 10, 1, 2, 3, 4, 6, 7, 1, 5, 8, 4, 7, 8, 5, 9, 1, 3, 4, 1, 2, 3, 4, 5, 6, 7, 8, 9, 10, 1, 2, 4, 6, 7, 6, 7, 3, 7, 2, 3, 1, 5, 2, 3, 5, 1, 2, 3, 5, 9, 7, 8, 1, 2, 3, 4, 5, 6, 7, 8, 9, 1, 2, 4, 5, 7, 1, 5, 9, 2, 3, 4, 6, 7, 10, 1, 2, 3, 5, 1, 2, 3, 4, 5, 6, 7, 8, 9, 10, 1, 2, 3, 4, 5, 6, 7, 8, 9, 10, 1, 3, 4, 7, 10, 1, 2, 3, 4, 6, 7, 2, 3, 4, 6, 7, 1, 3, 4, 5, 6, 7, 8, 9, 1, 5, 7, 2, 3, 5, 1, 2, 3, 5, 6, 1, 2, 4, 5, 6, 7, 8, 9, 10, 8, 5, 7, 8, 9, 10, 1, 2, 3, 4, 5, 6, 7, 8, 9, 10, 2, 2, 3, 1, 4, 5, 7, 8, 9, 10, 4, 6, 8, 10, 6, 7, 10, 3, 5, 6, 7, 8, 10, 1, 2, 4, 7, 9, 2, 3, 9, 10, 8, 10, 6, 8, 10, 1, 3, 4, 5, 6, 7, 5, 8, 9, 1, 2, 3, 4, 5, 6, 7, 8, 9, 10, 1, 6, 10, 6, 10, 2, 3, 9, 2, 6, 10, 2, 3, 4, 1, 2, 5, 7, 8, 6, 1, 6, 7, 8, 9, 10, 1, 2, 3, 4, 5, 7, 8, 1, 2, 3, 4, 5, 6, 7, 8, 10, 2, 4, 5, 6, 7, 9, 5, 7, 4, 7, 2, 2, 1, 5, 7, 8, 2, 3, 5, 8, 9, 5, 7, 4, 9, 1, 4, 9, 1, 3, 5, 6, 7, 8, 10, 6, 6, 2, 4, 6, 7, 8, 2, 3, 4, 5, 7, 2, 3, 2, 3, 4, 5, 9, 2, 3, 4, 5, 7, 9, 1, 2, 4, 5, 6, 7, 9, 1, 2, 3, 4, 5, 6, 8, 9, 1, 3, 6, 8, 1, 2, 3, 7, 6, 8, 2, 5, 8, 3, 5, 7, 9, 1, 2, 3, 4, 5, 7, 8, 9, 1, 2, 3, 4, 5, 7, 9, 6, 7, 10, 2, 4, 6, 7, 8, 1, 2, 3, 4, 5, 6, 7, 8, 10, 10, 5, 7, 8, 6, 9, 10, 2, 5, 6, 9, 4, 6, 10, 4, 8, 5, 7, 8, 9, 6, 6, 2, 3, 7, 3, 3, 3, 7, 8, 7, 2, 5, 6, 7, 8, 10, 1, 2, 3, 4, 6, 7, 8, 6, 8, 10, 6, 7, 4, 5, 7, 8, 6, 7, 9, 1, 2, 4, 7, 8, 1, 2, 4, 5, 6, 7, 8, 10, 1, 2, 3, 4, 5, 6, 7, 8, 5, 7, 9, 2, 6, 8, 6, 8, 1, 6, 3, 9, 10, 6, 7, 1, 3, 4, 5, 7, 8, 9, 1, 7, 9, 10, 9, 9, 1, 2, 6, 9, 6, 7, 2, 3, 4, 5, 6, 9, 10, 2, 3, 4, 5, 6, 7, 9, 10, 3, 6, 8, 9, 2, 3, 2, 3, 5, 7, 1, 2, 3, 4, 8, 1, 2, 3, 4, 5, 6, 7, 8, 9, 10, 1, 2, 4, 5, 6, 7, 8, 9, 10, 7, 10, 10, 6, 2, 8, 10, 2, 3, 5, 7, 1, 3, 4, 7, 6, 7, 1, 6, 1, 1, 2, 3, 4, 5, 7, 9, 1, 2, 3, 6, 7, 8, 1, 2, 3, 4, 5, 6, 7, 8, 9, 10, 1, 2, 3, 4, 5, 6, 7, 8, 9, 2, 1, 4, 1, 2, 3, 8, 2, 6, 8, 6, 7, 8, 9, 7, 8, 8, 1, 3, 3, 6, 7, 5, 7, 1, 2, 3, 4, 6, 7, 2, 4, 6, 7, 4, 6, 7, 9, 10, 6, 8, 1, 5, 1, 9, 1, 2, 3, 4, 5, 6, 7, 9, 1, 2, 3, 5, 9, 1, 2, 3, 4, 5, 6, 7, 8, 9, 10, 1, 2, 4, 5, 6, 7, 8, 9, 10, 1, 8, 2, 3, 4, 8, 10, 6, 2, 3, 5, 6, 7, 2, 6, 7, 8, 9, 10, 1, 5, 9, 1, 4, 5, 7, 8, 9, 4, 8, 10, 5, 9, 10, 10, 5, 7, 1, 2, 7, 8, 9, 5, 1, 4, 6, 7, 10, 5, 9, 10, 1, 2, 1, 2, 3, 4, 5, 6, 7, 8, 9, 10, 1, 2, 3, 4, 5, 6, 7, 8, 10, 1, 1, 4, 9, 10, 4, 2, 3, 6, 8, 1, 2, 4, 6, 7, 5, 9, 5, 5, 9, 2, 4, 9, 2, 3, 4, 5, 7, 8, 9, 10, 1, 2, 3, 4, 5, 6, 7, 8, 9, 10, 5, 9, 6, 10, 2, 3, 4, 5, 6, 7, 8, 10, 4, 6, 7, 10, 9, 1, 2, 4, 5, 6, 7, 8, 9, 10, 1, 2, 4, 5, 6, 7, 8, 9, 1, 5, 8, 8, 5, 1, 5, 9, 5, 10, 5, 9, 1, 7, 1, 2, 5, 6, 7, 8, 1, 5, 7, 8, 1, 5, 7, 1, 7, 9, 1, 2, 3, 4, 5, 6, 7, 8, 9, 10, 1, 2, 3, 4, 5, 6, 7, 8, 9, 1, 2, 3, 4, 6, 7, 8, 9, 1, 5, 2, 3, 5, 7, 9, 2, 3, 5, 9, 1, 6, 10, 8, 8, 2, 3, 2, 3, 5, 2, 3, 5, 6, 1, 2, 3, 4, 5, 6, 7, 8, 9, 10, 2, 3, 6, 7, 9, 10, 4, 7, 2, 7, 8, 9, 10, 1, 2, 3, 4, 5, 6, 7, 8, 9, 10, 1, 2, 3, 4, 5, 6, 7, 8, 9, 10, 2, 3, 5, 7, 9, 10, 3, 4, 5, 9, 1, 2, 5, 9, 3, 8, 1, 2, 3, 4, 6, 8, 2, 3, 1, 2, 3, 4, 5, 6, 7, 8, 9, 10, 2, 3, 4, 7, 9, 2, 5, 6, 7, 9, 10, 2, 3, 5, 6, 7, 9, 10, 5, 7, 8, 9, 6, 1, 2, 3, 4, 5, 7, 8, 9, 1, 2, 3, 4, 5, 6, 7, 10, 5, 7, 9, 1, 5, 7, 9, 10, 1, 2, 3, 4, 5, 6, 8, 1, 2, 6, 7, 8, 2, 3, 4, 1, 2, 3, 4, 5, 6, 7, 8, 9, 10, 1, 2, 3, 5, 10, 2, 5, 3, 6, 7, 8, 2, 5, 6, 7, 7, 6, 10, 1, 9, 4, 7, 6, 2, 8, 9, 10, 1, 2, 5, 6, 7, 8, 9, 10, 3, 4, 6, 1, 4, 1, 1, 3, 1, 3, 3, 4, 5, 6, 8, 4, 9, 1, 4, 7, 6, 7, 8, 6, 8, 1, 2, 1, 1, 1, 2, 3, 7, 8, 10, 6, 6, 8, 1, 2, 5, 7, 9, 4, 6, 7, 1, 8, 1, 2, 4, 5, 6, 7, 8, 9, 10, 1, 2, 3, 5, 7, 9, 6, 1, 6, 7, 8, 9, 1, 4, 4, 1, 4, 3, 1, 5, 9, 9, 1, 2, 3, 5, 6, 7, 8, 9, 1, 4, 6, 7, 8, 10, 2, 3, 4, 6, 7, 8, 10, 1, 2, 3, 4, 6, 7, 8, 2, 3, 5, 9, 1, 8, 1, 4, 7, 9, 5, 7, 9, 10, 2, 3, 4, 5, 6, 7, 6, 10, 6, 7, 10, 4, 7, 7, 2, 3, 6, 9, 3, 5, 6, 10, 5, 6, 8, 1, 2, 3, 4, 5, 6, 7, 8, 9, 10, 6, 8, 10, 1, 4, 6, 7, 8, 4, 7, 8, 9, 2, 3, 4, 5, 7, 9, 1, 2, 3, 6, 7, 8, 9, 1, 4, 5, 6, 7, 8, 9, 2, 9, 3, 2, 5, 7, 1, 2, 3, 4, 5, 6, 7, 8, 9, 10, 1, 2, 3, 5, 1, 2, 4, 5, 7, 8, 9, 10, 1, 4, 7, 10, 1, 6, 7, 8, 9, 10, 6, 10, 10, 1, 2, 3, 4, 5, 6, 7, 8, 9, 10, 5, 9, 5, 6, 7, 8, 5, 7, 8, 9, 2, 9, 2, 4, 2, 4, 1, 2, 3, 4, 5, 6, 7, 8, 10, 1, 2, 4, 7, 8, 9, 1, 3, 6, 8, 1, 2, 3, 4, 5, 6, 7, 8, 9, 10, 2, 4, 6, 10, 6, 5, 9, 5, 8, 1, 2, 4, 1, 2, 3, 4, 5, 6, 7, 8, 9, 1, 2, 3, 4, 5, 6, 7, 8, 9, 10, 1, 2, 3, 4, 5, 6, 7, 8, 9, 10, 1, 6, 7, 9, 10, 1, 2, 4, 5, 6, 7, 8, 9, 1, 2, 3, 4, 6, 7, 8, 1, 2, 4, 1, 4, 7, 8, 6, 7, 8, 1, 6, 8, 4, 5, 6, 9, 1, 2, 3, 4, 5, 7, 8, 9, 1, 3, 4, 7, 8, 8, 3, 4, 6, 10, 2, 3, 4, 6, 7, 10, 2, 4, 9, 2, 4, 4, 7, 1, 2, 3, 4, 5, 6, 7, 8, 9, 1, 2, 3, 4, 5, 6, 7, 8, 9, 1, 2, 3, 4, 5, 6, 7, 8, 6, 10, 4, 5, 6, 7, 8, 10, 2, 3, 4, 6, 7, 10], \"Freq\": [0.9971652784303828, 0.6671451445254232, 0.27422530480492857, 0.0573008099592388, 0.9960765484092747, 0.04277595590973966, 0.9553296819841859, 0.19970437167665162, 0.020482499659143758, 0.5479068658820955, 0.046085624233073455, 0.1510584349861852, 0.033284061946108605, 0.10921949316800153, 0.06721199579569324, 0.17083048931405367, 0.05881049632123159, 0.12602249211692484, 0.04200749737230828, 0.04200749737230828, 0.38086797617559504, 0.9461971344691726, 0.05215259796286778, 0.05876647663640536, 0.12406256178796686, 0.6594904600307713, 0.13712177881827917, 0.019588825545468452, 0.14982611312849128, 0.65088393408279, 0.019649326311933283, 0.1793001025963912, 0.4428058777629058, 0.5567632727754184, 0.9928746137821812, 0.9972168735360493, 0.993811351894796, 0.0760261286192227, 0.01382293247622231, 0.9088578103116169, 0.019727028880758068, 0.06904460108265323, 0.7890811552303227, 0.11343041606435889, 0.004931757220189517, 0.061079447702554315, 0.06718739247280975, 0.6718739247280975, 0.16491450879689665, 0.030539723851277158, 0.3492201818983729, 0.27583973861339833, 0.02121844143179987, 0.0822214605482245, 0.056582510484799654, 0.0645394260217246, 0.03536406905299978, 0.061887120842749624, 0.0327117638740248, 0.01945023797914988, 0.033532978909720464, 0.049313204279000676, 0.7180002543022499, 0.09270882404452127, 0.10454399307148143, 0.985321849012514, 0.4207346717662517, 0.2443441908195757, 0.18361959901826103, 0.08385776963038692, 0.005783294457268064, 0.010120765300219112, 0.047712179272461526, 0.005783294457268064, 0.2001286023815342, 0.3323347700153962, 0.06913533536816636, 0.0012129006204941468, 0.19042539741758102, 0.12856746577237954, 0.04366442233778928, 0.03396121737383611, 0.1368171008621381, 0.5269490320333834, 0.08263211042168737, 0.09482373327078879, 0.08263211042168737, 0.07450436185561976, 0.31439402929302873, 0.03929925366162859, 0.6386128720014647, 0.7812851562716859, 0.02097409815494459, 0.19401040793323746, 0.9798616092062226, 0.01409872819001759, 0.9961852602744473, 0.7292995832749596, 0.2690619821791113, 0.42233036497341275, 0.23497150613454884, 0.09460694852259466, 0.022260458475904625, 0.05132272370833567, 0.05812453046486208, 0.049467685502010285, 0.04513926302058438, 0.022260458475904625, 0.0006183460687751285, 0.0028667413348781477, 0.017200448009268888, 0.08313549871146629, 0.465845466917699, 0.4300112002317222, 0.47825730368731845, 0.5194863815913976, 0.4566236356632798, 0.5372042772509174, 0.08835244459644154, 0.9056125571135257, 0.0077932754269098466, 0.9897459792175506, 0.12928560200679853, 0.3202756958804782, 0.5494638085288938, 0.04262648026808682, 0.01193541447506431, 0.013640473685787781, 0.8934510264190997, 0.0375113026359164, 0.13158606158450403, 0.8596956023520931, 0.003228274248665405, 0.2154873060984158, 0.2501912542715689, 0.17190560374143282, 0.0016141371243327024, 0.21387316897408307, 0.05165238797864648, 0.03228274248665405, 0.05972307360030999, 0.028997268171020447, 0.0009353957474522725, 0.001870791494904545, 0.9550390581487702, 0.013095540464331815, 0.9875310084472997, 0.2203795003954963, 0.7774499041730009, 0.053966548796930226, 0.04722073019731395, 0.32717220208138953, 0.3339180206810058, 0.059025912746642435, 0.1770777382399273, 0.12327721444878556, 0.020546202408130928, 0.842394298733368, 0.013697468272087284, 0.010017972579317273, 0.09445517003356285, 0.5230812825343519, 0.28264994063073734, 0.01144911151921974, 0.024329361978341946, 0.012164680989170973, 0.0007155694699512337, 0.029338348268000584, 0.012164680989170973, 0.0015907385671337468, 0.027837924924840572, 0.1980469516081515, 0.39132168751490176, 0.17179976525044466, 0.06203880411821613, 0.11135169969936229, 0.010339800686369355, 0.024656447790573077, 0.0007953692835668734, 0.04727143829751591, 0.04333215177272291, 0.011817859574378977, 0.8449769595680968, 0.0512107248223089, 0.0047900021581116035, 0.001596667386037201, 0.37574905818075466, 0.600879159612, 0.008515559392198406, 0.009047781854210806, 0.00875751488297849, 0.06568136162233867, 0.6655711311063652, 0.07881763394680641, 0.17952905510105904, 0.0035977625968815195, 0.3705695474787965, 0.17629036724719446, 0.012592169089085318, 0.11512840310020862, 0.0035977625968815195, 0.30221205813804763, 0.016189931685966837, 0.9957635328932488, 0.07205116883389907, 0.9206538239887103, 0.18655902638958471, 0.1316887245102951, 0.6803917433031914, 0.04706757387193731, 0.042512647368201435, 0.28240544323162386, 0.6149150780043422, 0.010628161842050359, 0.004406439737689515, 0.10134811396685885, 0.01762575895075806, 0.24676062531061282, 0.0022032198688447576, 0.019828978819602817, 0.43183109429357247, 0.1343964119995302, 0.04186117750805039, 0.9940467856102024, 0.25936551973781957, 0.3646718209847538, 0.22036318594265872, 0.15210910180112724, 0.0019501166897580417, 0.0683378124730078, 0.05613463167425641, 0.096405128310136, 0.17572580350202005, 0.10616767294913712, 0.04271113279562987, 0.12081148990763879, 0.06101590399375697, 0.18792898430077146, 0.08420194751138461, 0.9968638716100622, 0.25019685789189844, 0.7483365479289216, 0.20899367026068522, 0.021999333711651074, 0.07699766799077877, 0.06599800113495323, 0.10449683513034261, 0.5169843422238003, 0.0054998334279127686, 0.13827877703809976, 0.2134302862979366, 0.21944240703872353, 0.42986663296626665, 0.10501385451105598, 0.259445993497903, 0.6362604126258097, 0.036484495023762525, 0.9577179943737664, 0.20743004824147018, 0.016376056440116065, 0.21288873372150888, 0.5622446044439849, 0.5492002999040392, 0.14900783330729747, 0.271052344397084, 0.00851473333184557, 0.021286833329613924, 0.24608905775568804, 0.21948483529561366, 0.525433393586469, 0.006651055615018595, 0.2300160186780589, 0.7667200622601964, 0.005796084059812445, 0.13620797540559246, 0.8549223988223357, 0.11749781324531822, 0.04971061329609617, 0.13331482656680335, 0.6846507194871427, 0.011297866658203674, 0.002259573331640735, 0.764477603632075, 0.013411887783018859, 0.21906083378930802, 0.5684181341764404, 0.08793374514978723, 0.0939360485729809, 0.0054020730808743015, 0.005702188252033984, 0.077729829330358, 0.030611747458287708, 0.09633696994225838, 0.0003001151711596834, 0.03361289916988454, 0.07696057478702477, 0.09959603795967911, 0.8194037668500872, 0.6450032078638911, 0.3473094196190183, 0.1647094072483734, 0.8310338274804294, 0.9942462936670519, 0.9877120684258381, 0.3447379158147953, 0.6550020400481111, 0.6641003984549846, 0.15811914248928205, 0.17393105673821024, 0.05883097817931835, 0.6508176961087092, 0.09560033954139233, 0.09192340340518493, 0.10295421181380711, 0.9899534804951382, 0.2972649396018488, 0.05989666693470088, 0.1863451860190694, 0.38156395232476115, 0.03105753100317823, 0.039931111289800585, 0.18443213993437202, 0.04902626504584572, 0.5836460124505444, 0.04902626504584572, 0.046691680996043546, 0.00933833619920871, 0.07704127364347185, 0.13329280274764305, 0.11329888233549659, 0.5298388909218811, 0.011663120240418767, 0.04498632092732953, 0.054983281133402756, 0.0349893607212563, 0.0033323200686910764, 0.07331104151120368, 0.14894958424454416, 0.017186490489755096, 0.10884777310178227, 0.13749192391804077, 0.04583064130601359, 0.5385100353456597, 0.8494590138340646, 0.1400207165660546, 0.011139789815225279, 0.9803015037398245, 0.9930487286880308, 0.9958117365616967, 0.00350175573071745, 0.6478248101827283, 0.3431720616103101, 0.00350175573071745, 0.2571089986905591, 0.028121296731779898, 0.6628591372490976, 0.048207937254479825, 0.004017328104539986, 0.032880442305050925, 0.9601089153074871, 0.6615376369489946, 0.3366404543054055, 0.02715145837289561, 0.5128608803769171, 0.4585579636311259, 0.2832955567492219, 0.15109096359958502, 0.04013353720613977, 0.007082388918730548, 0.002360796306243516, 0.4202217425113458, 0.09443185224974063, 0.9981868931989418, 0.9933242481066157, 0.04729582955380015, 0.13715790570602043, 0.7567332728608024, 0.004729582955380014, 0.05202541250918016, 0.317642190808286, 0.46025705198751643, 0.02376914352987174, 0.1944748106989506, 0.00216083122998834, 0.12147902890301361, 0.8737145540332133, 0.05148356855333112, 0.381256696854398, 0.10435858490540091, 0.3102928591187254, 0.151667810062516, 0.04838333321627631, 0.3386833325139342, 0.13305416634475986, 0.31967559446468274, 0.012095833304069077, 0.14687797583512452, 0.05142848480048292, 0.34714227240325973, 0.049591753200465674, 0.15612218600146602, 0.011020389600103483, 0.05693867960053466, 0.32693822480307, 0.03524192812992633, 0.23092737116714884, 0.1279838442613114, 0.05008063471094794, 0.2902821974912353, 0.008346772451824656, 0.019475802387590866, 0.23834672445765964, 0.010184650375051358, 0.952264810067302, 0.020369300750102716, 0.010184650375051358, 0.04522021026830718, 0.1457095664201009, 0.7737680423688118, 0.03517127465312781, 0.061730211635120866, 0.930362475357893, 0.023444894657927293, 0.05861223664481823, 0.9143508916591644, 0.0327282136337815, 0.7282027533516384, 0.21273338861957974, 0.021818809089187666, 0.07596044025618223, 0.6532597862031672, 0.022097582619980287, 0.013810989137487678, 0.062149451118694556, 0.07043604460118716, 0.06629274785994085, 0.03728967067121673, 0.008809460092662619, 0.24372839589699913, 0.3592302060007979, 0.0009788288991847355, 0.37684912618612315, 0.0009788288991847355, 0.01076711789103209, 0.14654415908997104, 0.8028071324059284, 0.048848053029990346, 0.01292511254784435, 0.6333305148443732, 0.21111017161479106, 0.040929523068173775, 0.09909252953347335, 0.02754339663026881, 0.03901981189288081, 0.016066981367656805, 0.011476415262612004, 0.02524811357774641, 0.3236349104056585, 0.12853585094125444, 0.05508679326053762, 0.37413113756115135, 0.9941419472142387, 0.9108359988665579, 0.0768174938803121, 0.005486963848593722, 0.048860661325988854, 0.640074663370454, 0.30293610022113093, 0.12331217889732056, 0.1765606197847999, 0.21299376354991734, 0.48484106702810126, 0.03718163948653742, 0.23052616481653201, 0.721323806038826, 0.7960934893806596, 0.1990233723451649, 0.8159437540301855, 0.10306657945644448, 0.04294440810685187, 0.03435552648548149, 0.9980373795820212, 0.9979053888936465, 0.994253605512007, 0.9600353145849317, 0.031789248827315625, 0.9937031698332097, 0.9914496986746848, 0.9879161504048457, 0.8855258309365057, 0.10161771830418918, 0.9971872485872545, 0.02512084038049743, 0.00837361346016581, 0.0033494453840663243, 0.5945265556717726, 0.1724964372794157, 0.19594255496787996, 0.0050706332225077064, 0.1419777302302158, 0.10648329767266183, 0.0050706332225077064, 0.10141266445015412, 0.6084759867009247, 0.045635699002569356, 0.01445525434772733, 0.9034533967329581, 0.07227627173863665, 0.3475682840743401, 0.6430013255375291, 0.09844898651286565, 0.04500525097731001, 0.7875918921029252, 0.06750787646596501, 0.6851026110346683, 0.017718170975034527, 0.29530284958390873, 0.0341212751213862, 0.0068242550242772395, 0.7165467775491101, 0.12966084546126755, 0.10236382536415858, 0.04009757548422202, 0.5073885513195786, 0.45186883141834816, 0.1784940745884823, 0.45000618804701875, 0.03771001575813006, 0.04273801785921407, 0.28911012081233045, 0.05678463888490923, 0.12923400573806926, 0.5071455679721203, 0.24084519251185638, 0.003916181992062705, 0.05286845689284652, 0.005874272988094058, 0.0019580909960313525, 0.36858475068072694, 0.6095824722796638, 0.021264504846965016, 0.9865703427402729, 0.0625257215799571, 0.9322016671920877, 0.9532830588135306, 0.04056523654525662, 0.2320885682279859, 0.7542878467409542, 0.8093363132888015, 0.156016638706275, 0.019502079838284374, 0.9390842722834102, 0.05843191027541219, 0.2705548875194001, 0.307089671600487, 0.1056546458561161, 0.23698238322867163, 0.0217233851292949, 0.05332103622645112, 0.003949706387144527, 0.14425326760757007, 0.26789892555691586, 0.015455707243668222, 0.5667092656011682, 0.9927264259178881, 0.9891816522152059, 0.4634243098572966, 0.03177766696164319, 0.47666500442464793, 0.023833250221232394, 0.0038066843934689122, 0.9935446266953861, 0.07048945203136239, 0.17857327847945137, 0.11278312325017982, 0.07988804563554404, 0.042293671218817434, 0.5169226482299908, 0.0046992968020908256, 0.3990307549393064, 0.003977050713680794, 0.014582519283496246, 0.2624853471029324, 0.10472900212692758, 0.003977050713680794, 0.11400878712551611, 0.096774900699566, 0.007376848628484522, 0.84833759227572, 0.14016012394120592, 0.007376848628484522, 0.9371750025290021, 0.060665346145850584, 0.6579637084480847, 0.11611124266730906, 0.19835670622331966, 0.029027810666827265, 0.11419642110352392, 0.6802134648340338, 0.004965061787109736, 0.004965061787109736, 0.19860247148438942, 0.15540223092387068, 0.09820557648661271, 0.0221232342634677, 0.07122602250677405, 0.04262769528814508, 0.07014684034758051, 0.12140799290927395, 0.18400055814249966, 0.11763085535209655, 0.11763085535209655, 0.06859559047296003, 0.16658929114861723, 0.0963604723310629, 0.0604294487499886, 0.02776488185810287, 0.2302851965877944, 0.10615984239862862, 0.22211905486482297, 0.019598740135131437, 0.04909134712781854, 0.9436447836791787, 0.9936885423721382, 0.9942750810205924, 0.7822594349760522, 0.184061043523777, 0.028759538050590155, 0.621657632055745, 0.35057414004455123, 0.01834399570000559, 0.010191108722225327, 0.01644979772783317, 0.09047388750308244, 0.7978151897999088, 0.09458633693504073, 0.9153495557071503, 0.08258792983823912, 0.9452679168627662, 0.04537286000941278, 0.9960588682613095, 0.997756376752738, 0.18764325390192899, 0.3546014246965587, 0.2290134201165275, 0.20389581920052127, 0.005910023744942645, 0.019207577171063597, 0.047477865710882534, 0.033912761222058954, 0.9156445529955917, 0.4589818933288463, 0.5388048312990804, 0.9913750702666014, 0.006680985351944064, 0.1787163581645037, 0.011691724365902111, 0.18372709717846175, 0.08685280957527283, 0.008351231689930079, 0.1703651264745736, 0.001670246337986016, 0.34407074562511925, 0.010021478027916095, 0.06640658817523068, 0.5485761631866882, 0.03464691556968557, 0.03753415853382604, 0.08661728892421393, 0.09239177485249486, 0.028872429641404643, 0.08373004596007347, 0.017323457784842785, 0.9920884312065497, 0.9951405183071841, 0.9924485257301491, 0.01964618460551394, 0.026194912807351922, 0.9495655892665072, 0.0065487282018379805, 0.06876520001791478, 0.31631992008240795, 0.6120102801594415, 0.05709344126154401, 0.04030125265520754, 0.8866275584145659, 0.013433750885069179, 0.07486526364230767, 0.9233382515884612, 0.9962567228749242, 0.056196224041380166, 0.9366037340230027, 0.9954299676976759, 0.07356063212008142, 0.9233127617830909, 0.003932169673074597, 0.994838927287873, 0.29088583518370476, 0.5162199328612226, 0.05530927852084527, 0.09832760625928048, 0.01638793437654675, 0.02253340976775178, 0.5329609559206788, 0.010298762433249833, 0.07466602764106128, 0.3810542100302438, 0.17189034484610988, 0.582014676408758, 0.05126554144533102, 0.01809372051011683, 0.17490596493112937, 0.1176923240679934, 0.8806632525087783, 0.009045423544258125, 0.9859511663241357, 0.034763339018287494, 0.960337240380192, 0.172197724596463, 0.34285796950902897, 0.09993617945330441, 0.035362032729630795, 0.052274309252497694, 0.26290902594638543, 0.009224878103381946, 0.026137154626248847, 0.9963078584711452, 0.2591696660875048, 0.1616838283848654, 0.5777819161400336, 0.9960862625119378, 0.03029375617434988, 0.15273102071234732, 0.003786719521793735, 0.11991278485680161, 0.06311199202989559, 0.061849752189297676, 0.10224142708843086, 0.2473990087571907, 0.14137086214696612, 0.07825887011707053, 0.031277278887530596, 0.10251996968690584, 0.04170303851670746, 0.005212879814588432, 0.03996541191184465, 0.28323313659263816, 0.08861895684800336, 0.15638639443765298, 0.25021823110024477, 0.9929889126749778, 0.9958807656230516, 0.1649139164923788, 0.827388623769456, 0.005638082615124061, 0.9798178621095809, 0.019560792165527023, 0.9930476435888634, 0.021668758062313297, 0.4417092989625403, 0.4133732307272075, 0.12167841065760543, 0.0016668275432548689, 0.07117367898543146, 0.01708168295650355, 0.11103093921727308, 0.4640523869850131, 0.2619191386663878, 0.07402062614484872, 0.017520924680158038, 0.8191032287973882, 0.15768832212142234, 0.4771336841003118, 0.050292469405168, 0.028370110946505028, 0.2824115589674819, 0.14185055473252514, 0.019343257463526154, 0.2109772906411854, 0.6921535675421345, 0.09253389940402869, 0.2743146870483622, 0.7208734799177889, 0.9943355658054488, 0.9940037630469322, 0.029661751421713765, 0.9661256177358197, 0.8454325320413959, 0.10932317224673223, 0.027330793061683057, 0.0018220528707788705, 0.016398475837009832, 0.9970171361726264, 0.9952392497927773, 0.08497714520459154, 0.28892229369561123, 0.011330286027278872, 0.6061703024594196, 0.1549442577736534, 0.21557461951116993, 0.6265137379543376, 0.9547911031592403, 0.04181566875149958, 0.38108179475340626, 0.18966282872519757, 0.05531832504484929, 0.16595497513454788, 0.05707446234786038, 0.039513089317749495, 0.05224508476457988, 0.04873281015855771, 0.0017561373030110885, 0.00834165218930267, 0.2561169000070191, 0.3009373575082474, 0.07114358333528308, 0.11311829750310008, 0.05762630250157929, 0.045531893334581165, 0.0092486658335868, 0.10031245250274913, 0.046243329167934, 0.9940608121798621, 0.49072286821570194, 0.27242335698739334, 0.234536664956034, 0.9962124336778183, 0.9977581812725891, 0.9900919675970851, 0.006972478645049894, 0.9090934574744842, 0.08569323574554565, 0.003500863415979718, 0.021005180495878305, 0.6581623222041869, 0.273067346446418, 0.04201036099175661, 0.8926856455787682, 0.10275518222489419, 0.9914154232649122, 0.06723344053729462, 0.9306523611214992, 0.1485242248592088, 0.0082513458255116, 0.8375116012894275, 0.0819091359800607, 0.46310165342572773, 0.026777986762712147, 0.21264871840977295, 0.0819091359800607, 0.02362763537886366, 0.10711194705084859, 0.001575175691924244, 0.21198350451119627, 0.06224912434058938, 0.15141678893656876, 0.0008412043829809376, 0.06645514625549406, 0.24058445353254812, 0.02355372272346625, 0.15814642400041626, 0.011776861361733126, 0.07318478131934157, 0.23619718416588656, 0.7583172754799515, 0.7740764599348054, 0.22502222672523417, 0.011208969338587383, 0.07397919763467674, 0.27125705799381467, 0.0022417938677174766, 0.4864692692946925, 0.026901526412609723, 0.04259408348663206, 0.08518816697326412, 0.24461510421893073, 0.6202740142694315, 0.017472507444209338, 0.1135712983873607, 0.9946129252798079, 0.5512309964463036, 0.013159360657869318, 0.08772907105246211, 0.002924302368415404, 0.05409959381568497, 0.035091628420984844, 0.2324820382890246, 0.0043864535526231055, 0.019007965394700125, 0.06265907606360016, 0.05944579011162066, 0.2490296612784109, 0.07229893391953865, 0.024099644639846214, 0.10443179343933359, 0.29883559353409306, 0.1285314380791798, 0.23957020173844576, 0.006734905269755503, 0.7533472608883656, 0.9941752048123687, 0.9961839890563742, 0.9987171243367602, 0.7578090115864229, 0.24198943227129469, 0.9952175748041451, 0.990176883834412, 0.15956603718281792, 0.8377216952097941, 0.9436201670999472, 0.04587042478958077, 0.7565680386251075, 0.05346770590990159, 0.12832249418376382, 0.032080623545940955, 0.021387082363960634, 0.008020155886485239, 0.10961654978931726, 0.841698507310829, 0.01957438389094951, 0.027404137447329315, 0.02438927584293785, 0.9572790768353105, 0.012194637921468925, 0.9538730439055993, 0.008832157813940734, 0.026496473441822203, 0.04261443108345238, 0.22159504163395238, 0.0056819241444603175, 0.3906322849316468, 0.09943367252805556, 0.08522886216690476, 0.059660203516833335, 0.02556865865007143, 0.04261443108345238, 0.02698913968618651, 0.022572640169044717, 0.010032284519575429, 0.02758878242883243, 0.5216787950179224, 0.007524213389681572, 0.13292776988437444, 0.11787934310501129, 0.13292776988437444, 0.022572640169044717, 0.13717067215844111, 0.009144711477229409, 0.06096474318152939, 0.1402189093175176, 0.05182003170429998, 0.021337660113535287, 0.5242967913611527, 0.05791650602245292, 0.04427523353620788, 0.9546847231244825, 0.15832093223071875, 0.8410799524756934, 0.006378782834501621, 0.0015946957086254052, 0.9919007307650021, 0.06260785538694812, 0.0428369536858066, 0.01977090170114151, 0.87321482513375, 0.15964597539684688, 0.28477390205924036, 0.552288779751254, 0.9918572328202672, 0.9959295825238955, 0.05344787540009758, 0.9429732302731502, 0.9917629661263191, 0.0024071916653551433, 0.004814383330710287, 0.8992710676874108, 0.05719745306845723, 0.04130927166055244, 0.003177636281580957, 0.06799894947646024, 0.21206452040116414, 0.25009783112528594, 0.07952419515043654, 0.16711606227265652, 0.016135343943566836, 0.025355540482747886, 0.013830294808771574, 0.16135343943566835, 0.006915147404385787, 0.006175010040812247, 0.1049751706938082, 0.1296752108570572, 0.1296752108570572, 0.030875050204061234, 0.5928009639179757, 0.9697168073495304, 0.028885181495517928, 0.04660413022408976, 0.0031069420149393177, 0.3759399838076574, 0.0031069420149393177, 0.5685703887338951, 0.03163245174837079, 0.05061192279739326, 0.02319713128213858, 0.13496512745971537, 0.4892485870414682, 0.08224437454576405, 0.02530596139869663, 0.13496512745971537, 0.021088301165580525, 0.004217660233116105, 0.031596003317968996, 0.03752025394008818, 0.1560052663824719, 0.0572677560138188, 0.30608628214282463, 0.021722252281103683, 0.17772751866357558, 0.11256076182026453, 0.023697002488476743, 0.07602788298386289, 0.012682591314523371, 0.11794809922506734, 0.7216394457963798, 0.06341295657261685, 0.07482728875568789, 0.007609554788714022, 0.09316492750794202, 0.3005320242191678, 0.5439629638366937, 0.06311172508602524, 0.7737746090511051, 0.002464250347296513, 0.22178253125668615, 0.002464250347296513, 0.9550121782308051, 0.0430185665869732, 0.003926547951743329, 0.010798006867294156, 0.78432795336073, 0.04908184939679162, 0.0608614932520216, 0.09129223987803241, 0.6790094795132983, 0.3150043977123549, 0.1899782127837651, 0.08588056194334587, 0.3500283509509097, 0.009108544448536683, 0.018217088897073366, 0.11580863655996639, 0.023421971439094327, 0.12361596037299784, 0.005204882542020961, 0.07677201749480918, 0.022288920515577314, 0.9762547185822864, 0.9825252370314795, 0.013709654470206691, 0.002284942411701115, 0.10964706439395124, 0.10651429112555262, 0.39786220508662307, 0.21929412878790247, 0.15350589015153174, 0.012531093073594428, 0.08538444650049315, 0.0008894213177134704, 0.08360560386506621, 0.2783888724443162, 0.3984607503356347, 0.12096129920903197, 0.032908588755398406, 0.05378338656724562, 0.04481948880603802, 0.8381244406729109, 0.05378338656724562, 0.9897820802933073, 0.03461489199516745, 0.16961297077632048, 0.027691913596133957, 0.14538254637970327, 0.05884531639178466, 0.07269127318985164, 0.031153402795650702, 0.460378063535727, 0.06948892515394343, 0.03995613196351748, 0.2466856842964992, 0.36307963392935444, 0.005211669386545758, 0.10597061085976374, 0.12681728840594678, 0.03995613196351748, 0.6528569884741215, 0.19159933357392697, 0.14902170389083208, 0.9988831625915341, 0.2804539096208675, 0.05141655009715904, 0.6029759056848651, 0.0560907819241735, 0.09381809799737574, 0.010424233110819527, 0.7349084343127766, 0.01997978012907076, 0.033878757610163464, 0.018242407943934173, 0.08947466753453427, 0.8121788149094991, 0.02424414372864176, 0.10909864677888793, 0.03117104193682512, 0.02078069462455008, 0.012743585352477558, 0.9812560721407719, 0.0031858963381193894, 0.21170102569031712, 0.2248930777363013, 0.040204349092523135, 0.09045978545817705, 0.10365183750416121, 0.048370857501941894, 0.06658845318449144, 0.05653736591136066, 0.13129232750527087, 0.025755911137397634, 0.9935608529156364, 0.03718673072828109, 0.7933169222033299, 0.1301535575489838, 0.03718673072828109, 0.6797299932355516, 0.3191775620410416, 0.13778945520966046, 0.6649838925335787, 0.023963383514723557, 0.1677436846030649, 0.9934025954274672, 0.0029132040921626607, 0.06082107138867938, 0.9383822442824818, 0.9963722653876608, 0.006152100443167825, 0.9925388714977424, 0.2545410715589186, 0.7424114587135126, 0.7094620910145991, 0.28532714529934966, 0.9955349966370254, 0.1344671560041542, 0.7654284264851855, 0.02068725476986988, 0.07757720538701204, 0.030928927068213225, 0.04730306492785552, 0.007277394604285465, 0.012735440557499563, 0.10006417580892514, 0.5694561277853376, 0.1073415704132106, 0.1237157082728529, 0.5817508554172455, 0.251719120132462, 0.16501586764239176, 0.9354888145091523, 0.062222879864140865, 0.9925673504005059, 0.1636261271056341, 0.8338639169806352, 0.005808947230548016, 0.9875210291931628, 0.11511698200930853, 0.015348930934574472, 0.06523295647194151, 0.6197130864834443, 0.18418717121489364, 0.7511010511557744, 0.2468653804498, 0.03746756125807754, 0.8842344456906299, 0.07493512251615508, 0.01771229382249298, 0.9470173097092913, 0.03424376805681976, 0.43504767148882406, 0.5618329928941385, 0.22356811477062968, 0.7690743148109661, 0.9961846581639928, 0.9933018451903287, 0.9957823535112097, 0.19166576353576284, 0.8049962068502039, 0.03865668591877418, 0.16949469979770215, 0.788001674498089, 0.9959955862033442, 0.7398182926808965, 0.24968867377980256, 0.18004487590960672, 0.10655717145670603, 0.011023155667935106, 0.1873936463548968, 0.5180883163929499, 0.4572180625128201, 0.5326104026080192, 0.009728043883251491, 0.02480210200497848, 0.9672819781941607, 0.10011163062580816, 0.1257812795042205, 0.0590401924203484, 0.08727680618660198, 0.030803578654094818, 0.1180803848406968, 0.08984377107444322, 0.3619420491856141, 0.02566964887841235, 0.1296875708136918, 0.31599929226434764, 0.0018265855044181944, 0.35435758785712973, 0.11690147228276444, 0.08036976219440056, 0.9983241261009027, 0.22642708462492941, 0.11321354231246471, 0.6226744827185559, 0.006289641239581372, 0.02515856495832549, 0.6160793522218208, 0.38306900720600356, 0.9948797934380423, 0.16705676893427845, 0.8260029130639324, 0.9955092922859261, 0.19070906347819108, 0.000678679941203527, 0.8083078099734007, 0.99766986697543, 0.08757206131472116, 0.05586493566628764, 0.018118357513390585, 0.003019726252231764, 0.10267069257587998, 0.12229891321538645, 0.5707282616718035, 0.039256441279012934, 0.021608510942460874, 0.43217021884921747, 0.3637432675314247, 0.030612057168486237, 0.009003546226025365, 0.14045532112599568, 0.07460670525128611, 0.01085188440018707, 0.37303352625643055, 0.3703205551563838, 0.0027129711000467675, 0.11123181510191747, 0.05832887865100551, 0.3401682579400299, 0.25311097865679955, 0.09753639623398963, 0.1612171838578341, 0.03627386636801267, 0.08705727928323041, 0.024988663497964286, 0.8184194820740095, 0.02046048705185024, 0.05043747970921222, 0.11039146502393617, 0.9908379937028204, 0.007077414240734432, 0.9986698484098938, 0.9505948915271832, 0.027553475116729946, 0.02066510633754746, 0.8104610763045973, 0.10741050408856108, 0.03417606948272398, 0.0488229564038914, 0.7293959099725451, 0.05510991319792563, 0.1912638163928007, 0.01620879799938989, 0.0032417595998779783, 0.0032417595998779783, 0.34816748831369815, 0.6474693642324912, 0.006629988336764198, 0.8917334312947847, 0.09944982505146296, 0.8948726521514436, 0.10269030434524763, 0.9948375730215675, 0.0721721581422783, 0.026244421142646655, 0.38382465921120734, 0.5150467649244407, 0.039079507018798, 0.1406862252676728, 0.25792474632406676, 0.5627449010706912, 0.2510102088434528, 0.6988911697209862, 0.04429591920766814, 0.17095755213942415, 0.17878766903130616, 0.042413133164360954, 0.11549422415525983, 0.07242858124990871, 0.0828687371057514, 0.10896912674535814, 0.09787646114852527, 0.07830116891882022, 0.050895759797233146, 0.0158252180802113, 0.2532034892833808, 0.7319163362097727, 0.007124744905343171, 0.049873214337402196, 0.1709938777282361, 0.6554765312915717, 0.11399591848549073, 0.86330321221854, 0.0120741708002593, 0.030185427000648253, 0.09055628100194475, 0.053594006036470104, 0.12250058522621739, 0.0038281432883192934, 0.20289159428092254, 0.5512526335179783, 0.06507843590142798, 0.053127344572747294, 0.14063120622197814, 0.6281527211248357, 0.06562789623692313, 0.009375413748131875, 0.06562789623692313, 0.0375016549925275, 0.41096065592910797, 0.07672155102572632, 0.010674302751405402, 0.10874445927994253, 0.16211597303696954, 0.13276164047060468, 0.09873730045049997, 0.9214529987841571, 0.0702059427645072, 0.9889463948257103, 0.14934364737914685, 0.8146017129771647, 0.033941738040715194, 0.018666208042145173, 0.1506629649116003, 0.43998918956485045, 0.01599960689326729, 0.10399744480623738, 0.03866571665872928, 0.1173304505506268, 0.08533123676409221, 0.01466630631882835, 0.01466630631882835, 0.0623898836682625, 0.03119494183413125, 0.8422634295215438, 0.05459114820972969, 0.21621075358742922, 0.007088877166800958, 0.3816178874794516, 0.0059073976390007985, 0.08506652600161149, 0.004725918111200638, 0.08506652600161149, 0.2138477945318289, 0.0736158895037847, 0.44504151381833473, 0.06692353591253154, 0.41157974586206897, 0.17214399273656297, 0.00765084412162502, 0.034428798547312595, 0.09946097358112527, 0.00382542206081251, 0.6847505488854393, 0.42756159398765065, 0.5656968781990455, 0.9915257228834772, 0.25962106885153063, 0.07128324144767459, 0.0787867405474298, 0.1163042360462059, 0.06978254162772354, 0.1500699819951044, 0.1500699819951044, 0.07203359135765011, 0.013506298379559396, 0.01875874774938805, 0.8871617490818328, 0.10952614186195467, 0.009578440951411039, 0.0239461023785276, 0.019156881902822078, 0.9434764337139874, 0.20458666675653828, 0.47377964933093075, 0.2433504562472508, 0.07752757898142504, 0.10112369884959475, 0.8974728272901535, 0.8416121555993588, 0.1574795751274874, 0.8314669376699516, 0.16441436620592262, 0.037652134069071495, 0.11672161561412163, 0.048947774289792946, 0.6174949987327725, 0.015060853627628597, 0.018826067034535748, 0.026356493848350048, 0.08659990835886444, 0.037652134069071495, 0.0035878926361770447, 0.08610942326824907, 0.7642211315057105, 0.11481256435766543, 0.017939463180885223, 0.010763677908531133, 0.04054789696723295, 0.8033552086633029, 0.04561638408813707, 0.10897247309943855, 0.07102412011901824, 0.06327603428785261, 0.34608116712539794, 0.10330781108220834, 0.22598583674233075, 0.07102412011901824, 0.047779862625521356, 0.05294525317963177, 0.003874042915582813, 0.012913476385276042, 0.7093596074117997, 0.24398355923717954, 0.013554642179843307, 0.03162749841963439, 0.9962760711080624, 0.10158454819239758, 0.8982212682275155, 0.21291998933955247, 0.7832413893562109, 0.04058435873112334, 0.8904685768652357, 0.06684482614537962, 0.1460651348734486, 0.4582043272057497, 0.19542047725077827, 0.04602052194642901, 0.02601159936102509, 0.026678563447205223, 0.021342850757764178, 0.04401962968788862, 0.036683024739907186, 0.3671670816642899, 0.1950099022947266, 0.03961138640361633, 0.044943688419487766, 0.08684034711562043, 0.041134901265293886, 0.07541398565303879, 0.04875247557368165, 0.08836386197729798, 0.012188118893420412, 0.4606225865516938, 0.1922242980504294, 0.00971346186956957, 0.023005567585822666, 0.04601113517164533, 0.04856730934784785, 0.08588745232040462, 0.08588745232040462, 0.04549990033640483, 0.0025561741762025183, 0.9945382750910121, 0.7528072742395734, 0.17443095378721823, 0.050493170833142115, 0.018361153030233498, 0.2345679438822119, 0.1305614027268915, 0.02876776670253542, 0.008851620523857053, 0.004425810261928526, 0.15490335916749842, 0.3761938722639247, 0.06196134366699937, 0.06658447203222904, 0.04821634181644172, 0.01951613835427403, 0.6727327691532107, 0.0022960162769734152, 0.10676475687926382, 0.08265658597104295, 0.16368087421353567, 0.6063632385637798, 0.22692121197785625, 0.5722802552898865, 0.42656618618116793, 0.1874765868004665, 0.8061493232420059, 0.3592398230284702, 0.030968950261075018, 0.6069914251170704, 0.9902450810238328, 0.43528232198104044, 0.5615474230137086, 0.8424033667568722, 0.11487318637593713, 0.015954609218880155, 0.02552737475020825, 0.12114665347387463, 0.014140145673606818, 0.04662426411297383, 0.18382189375688862, 0.009936318581453439, 0.5285357153134657, 0.0007643321985733415, 0.09477719262309435, 0.013582776795673122, 0.013582776795673122, 0.38031775027884746, 0.5874550964128625, 0.9976542589430187, 0.9953859462511844, 0.05891478415962709, 0.08248069782347793, 0.6539541041718607, 0.2062017445586948, 0.06582651165410586, 0.0021234358598098664, 0.46503245329836074, 0.33974973756957866, 0.010617179299049333, 0.11678897228954266, 0.026977586948616385, 0.760767951950982, 0.2104251781992078, 0.13435125354036737, 0.8540901117923354, 0.9940555810512077, 0.0038982571805929716, 0.16263103430606898, 0.06168763370230202, 0.43368275814951723, 0.029909155734449466, 0.0037386444668061833, 0.12524458963800714, 0.005607966700209275, 0.14954577867224733, 0.026170511267643283, 0.057932130592513134, 0.11948501934705835, 0.06155288875454521, 0.5014750054414419, 0.009051895405080179, 0.04525947702540089, 0.07965667956470557, 0.06155288875454521, 0.06155288875454521, 0.03991603544869743, 0.18201712164606026, 0.006386565671791589, 0.3943704302331306, 0.08781527798713434, 0.1133615406743007, 0.06386565671791589, 0.10857161642045701, 0.00721011885965834, 0.9877862837731926, 0.185576904883055, 0.01726296789609814, 0.29562832522068067, 0.028052322831159476, 0.13594587218177284, 0.33447000298690144, 0.15555636902398803, 0.011111169215999146, 0.011111169215999146, 0.06666701529599488, 0.19444546127998505, 0.5611140454079568], \"Term\": [\"absorption\", \"abundance\", \"abundance\", \"abundance\", \"accuracy\", \"acid\", \"acid\", \"active\", \"active\", \"active\", \"active\", \"active\", \"active\", \"activity\", \"activity\", \"activity\", \"activity\", \"activity\", \"activity\", \"activity\", \"activity\", \"adaptation\", \"adaptation\", \"adjacent\", \"adjacent\", \"adjacent\", \"adjacent\", \"adjacent\", \"age\", \"age\", \"age\", \"age\", \"ages\", \"ages\", \"airborne\", \"algorithm\", \"algorithms\", \"amazon\", \"amazon\", \"amazon\", \"america\", \"america\", \"america\", \"america\", \"america\", \"american\", \"american\", \"american\", \"american\", \"american\", \"analysis\", \"analysis\", \"analysis\", \"analysis\", \"analysis\", \"analysis\", \"analysis\", \"analysis\", \"analysis\", \"analysis\", \"annual\", \"annual\", \"annual\", \"annual\", \"annual\", \"antarctic\", \"approach\", \"approach\", \"approach\", \"approach\", \"approach\", \"approach\", \"approach\", \"approach\", \"area\", \"area\", \"area\", \"area\", \"area\", \"area\", \"area\", \"area\", \"areas\", \"areas\", \"areas\", \"areas\", \"areas\", \"areas\", \"assimilation\", \"assimilation\", \"assimilation\", \"atlantic\", \"atlantic\", \"atlantic\", \"bacterial\", \"bacterial\", \"band\", \"barbara\", \"barbara\", \"based\", \"based\", \"based\", \"based\", \"based\", \"based\", \"based\", \"based\", \"based\", \"based\", \"basin\", \"basin\", \"basin\", \"basin\", \"basin\", \"basins\", \"basins\", \"bay\", \"bay\", \"benefits\", \"benefits\", \"biogeochemical\", \"biogeochemical\", \"biological\", \"biological\", \"biological\", \"biomass\", \"biomass\", \"biomass\", \"biomass\", \"biomass\", \"bubble\", \"bubble\", \"california\", \"california\", \"california\", \"california\", \"california\", \"california\", \"california\", \"california\", \"california\", \"carbon\", \"carbon\", \"carbon\", \"carbon\", \"carbon\", \"cdom\", \"cell\", \"cell\", \"central\", \"central\", \"central\", \"central\", \"central\", \"central\", \"challenges\", \"challenges\", \"challenges\", \"challenges\", \"change\", \"change\", \"change\", \"change\", \"change\", \"change\", \"change\", \"change\", \"change\", \"change\", \"changes\", \"changes\", \"changes\", \"changes\", \"changes\", \"changes\", \"changes\", \"changes\", \"changes\", \"changes\", \"channel\", \"channel\", \"channel\", \"channel\", \"channel\", \"climate\", \"climate\", \"climate\", \"climate\", \"climate\", \"climate\", \"climatic\", \"climatic\", \"climatic\", \"climatic\", \"climatic\", \"coastal\", \"coastal\", \"coastal\", \"coastal\", \"coastal\", \"coastal\", \"coastal\", \"coastal\", \"color\", \"column\", \"column\", \"communities\", \"communities\", \"communities\", \"community\", \"community\", \"community\", \"community\", \"community\", \"composition\", \"composition\", \"composition\", \"composition\", \"composition\", \"composition\", \"composition\", \"composition\", \"composition\", \"compositions\", \"concentrations\", \"concentrations\", \"concentrations\", \"concentrations\", \"concentrations\", \"conditions\", \"conditions\", \"conditions\", \"conditions\", \"conditions\", \"conditions\", \"conditions\", \"conditions\", \"conditions\", \"conditions\", \"connectivity\", \"conservation\", \"conservation\", \"content\", \"content\", \"content\", \"content\", \"content\", \"content\", \"content\", \"continental\", \"continental\", \"continental\", \"continental\", \"cooling\", \"cooling\", \"cooling\", \"coral\", \"coral\", \"core\", \"core\", \"core\", \"core\", \"cover\", \"cover\", \"cover\", \"cover\", \"cover\", \"crop\", \"crop\", \"crop\", \"crop\", \"crust\", \"crust\", \"crustal\", \"crustal\", \"crustal\", \"cycle\", \"cycle\", \"cycle\", \"cycle\", \"cycle\", \"cycle\", \"cycling\", \"cycling\", \"cycling\", \"data\", \"data\", \"data\", \"data\", \"data\", \"data\", \"data\", \"data\", \"data\", \"data\", \"dates\", \"dates\", \"dates\", \"dating\", \"dating\", \"decision\", \"decision\", \"decomposition\", \"deforestation\", \"deformation\", \"deformation\", \"demand\", \"demand\", \"demand\", \"density\", \"density\", \"density\", \"density\", \"density\", \"deposits\", \"depth\", \"depth\", \"depth\", \"depth\", \"depth\", \"depth\", \"develop\", \"develop\", \"develop\", \"develop\", \"develop\", \"develop\", \"develop\", \"development\", \"development\", \"development\", \"development\", \"development\", \"development\", \"development\", \"development\", \"development\", \"did\", \"did\", \"did\", \"did\", \"did\", \"did\", \"dioxide\", \"dioxide\", \"discharge\", \"discharge\", \"disease\", \"dispersal\", \"dissolved\", \"dissolved\", \"dissolved\", \"dissolved\", \"diversity\", \"diversity\", \"diversity\", \"diversity\", \"diversity\", \"downstream\", \"downstream\", \"drought\", \"drought\", \"dry\", \"dry\", \"dry\", \"earth\", \"earth\", \"earth\", \"earth\", \"earth\", \"earth\", \"earth\", \"earthquake\", \"earthquakes\", \"east\", \"east\", \"east\", \"east\", \"east\", \"ecological\", \"ecological\", \"ecological\", \"ecological\", \"ecological\", \"economic\", \"economic\", \"ecosystem\", \"ecosystem\", \"ecosystem\", \"ecosystem\", \"ecosystem\", \"ecosystems\", \"ecosystems\", \"ecosystems\", \"ecosystems\", \"ecosystems\", \"ecosystems\", \"effect\", \"effect\", \"effect\", \"effect\", \"effect\", \"effect\", \"effect\", \"effects\", \"effects\", \"effects\", \"effects\", \"effects\", \"effects\", \"effects\", \"effects\", \"effort\", \"effort\", \"effort\", \"effort\", \"efforts\", \"efforts\", \"efforts\", \"efforts\", \"element\", \"element\", \"elements\", \"elements\", \"elements\", \"emissions\", \"emissions\", \"emissions\", \"emissions\", \"energy\", \"energy\", \"energy\", \"energy\", \"energy\", \"energy\", \"energy\", \"energy\", \"environmental\", \"environmental\", \"environmental\", \"environmental\", \"environmental\", \"environmental\", \"environmental\", \"erosion\", \"erosion\", \"erosion\", \"events\", \"events\", \"events\", \"events\", \"events\", \"evolution\", \"evolution\", \"evolution\", \"evolution\", \"evolution\", \"evolution\", \"evolution\", \"evolution\", \"evolution\", \"exhumation\", \"export\", \"export\", \"export\", \"exposed\", \"exposed\", \"exposed\", \"exposure\", \"exposure\", \"exposure\", \"exposure\", \"extension\", \"extension\", \"extension\", \"extreme\", \"extreme\", \"fate\", \"fate\", \"fate\", \"fate\", \"fault\", \"faults\", \"fecal\", \"fish\", \"fish\", \"fisheries\", \"fishery\", \"fishing\", \"flood\", \"flood\", \"floodplain\", \"flow\", \"flow\", \"flow\", \"flow\", \"flow\", \"flow\", \"flows\", \"flows\", \"flows\", \"flows\", \"flows\", \"flows\", \"flows\", \"fluid\", \"fluid\", \"fluid\", \"fluvial\", \"fluvial\", \"flux\", \"flux\", \"flux\", \"flux\", \"fold\", \"fold\", \"fold\", \"forcing\", \"forcing\", \"forcing\", \"forcing\", \"forcing\", \"forest\", \"forest\", \"forest\", \"formation\", \"formation\", \"formation\", \"formation\", \"formation\", \"future\", \"future\", \"future\", \"future\", \"future\", \"future\", \"future\", \"future\", \"gas\", \"gas\", \"gas\", \"genetic\", \"geochemical\", \"geochemical\", \"geologic\", \"geologic\", \"geometry\", \"geometry\", \"giant\", \"giant\", \"giant\", \"glacial\", \"glacial\", \"global\", \"global\", \"global\", \"global\", \"global\", \"global\", \"global\", \"grain\", \"grain\", \"grain\", \"grain\", \"grass\", \"grassland\", \"ground\", \"ground\", \"ground\", \"ground\", \"groundwater\", \"groundwater\", \"growing\", \"growing\", \"growing\", \"growing\", \"growing\", \"growing\", \"growing\", \"growth\", \"growth\", \"growth\", \"growth\", \"growth\", \"growth\", \"growth\", \"growth\", \"gulf\", \"gulf\", \"gulf\", \"gulf\", \"habitat\", \"habitat\", \"health\", \"health\", \"health\", \"health\", \"heterogeneity\", \"heterogeneity\", \"heterogeneity\", \"heterogeneity\", \"heterogeneity\", \"high\", \"high\", \"high\", \"high\", \"high\", \"high\", \"high\", \"high\", \"high\", \"high\", \"higher\", \"higher\", \"higher\", \"higher\", \"higher\", \"higher\", \"higher\", \"higher\", \"higher\", \"himalaya\", \"himalaya\", \"himalayan\", \"holocene\", \"host\", \"host\", \"host\", \"human\", \"human\", \"human\", \"human\", \"hydrologic\", \"hydrologic\", \"hydrologic\", \"hydrologic\", \"ice\", \"ice\", \"image\", \"image\", \"images\", \"imaging\", \"impacts\", \"impacts\", \"impacts\", \"impacts\", \"impacts\", \"impacts\", \"implementation\", \"implementation\", \"implementation\", \"incision\", \"incision\", \"inclusions\", \"increased\", \"increased\", \"increased\", \"increased\", \"increased\", \"increased\", \"increased\", \"increased\", \"increased\", \"increased\", \"individual\", \"individual\", \"individual\", \"individual\", \"individual\", \"individual\", \"individual\", \"individual\", \"individual\", \"individuals\", \"infrared\", \"interannual\", \"international\", \"international\", \"international\", \"international\", \"island\", \"island\", \"island\", \"isotope\", \"isotope\", \"isotope\", \"isotope\", \"isotopes\", \"isotopes\", \"isotopic\", \"issues\", \"issues\", \"kelp\", \"lake\", \"lake\", \"lakes\", \"lakes\", \"land\", \"land\", \"land\", \"land\", \"land\", \"land\", \"landscape\", \"landscape\", \"landscape\", \"landscape\", \"late\", \"late\", \"late\", \"late\", \"late\", \"lavas\", \"lavas\", \"lca\", \"lca\", \"leaf\", \"leaf\", \"level\", \"level\", \"level\", \"level\", \"level\", \"level\", \"level\", \"level\", \"lidar\", \"life\", \"life\", \"life\", \"litter\", \"low\", \"low\", \"low\", \"low\", \"low\", \"low\", \"low\", \"low\", \"low\", \"low\", \"lower\", \"lower\", \"lower\", \"lower\", \"lower\", \"lower\", \"lower\", \"lower\", \"lower\", \"lst\", \"magma\", \"management\", \"management\", \"management\", \"mantle\", \"mantle\", \"margin\", \"marine\", \"marine\", \"marine\", \"marine\", \"marine\", \"mass\", \"mass\", \"mass\", \"mass\", \"mass\", \"mass\", \"matter\", \"matter\", \"matter\", \"measurements\", \"measurements\", \"measurements\", \"measurements\", \"measurements\", \"measurements\", \"melt\", \"melt\", \"melt\", \"metal\", \"metal\", \"metamorphic\", \"metamorphism\", \"methane\", \"methane\", \"method\", \"method\", \"method\", \"method\", \"method\", \"microbial\", \"microwave\", \"middle\", \"middle\", \"middle\", \"middle\", \"mineral\", \"mineral\", \"mineral\", \"mission\", \"mission\", \"model\", \"model\", \"model\", \"model\", \"model\", \"model\", \"model\", \"model\", \"model\", \"model\", \"models\", \"models\", \"models\", \"models\", \"models\", \"models\", \"models\", \"models\", \"models\", \"modis\", \"moisture\", \"moisture\", \"moisture\", \"monazite\", \"monsoon\", \"mortality\", \"mortality\", \"motion\", \"motion\", \"mountain\", \"mountain\", \"mountain\", \"mountain\", \"mountain\", \"nano\", \"nano\", \"nanomaterials\", \"nanoparticles\", \"nanoparticles\", \"native\", \"native\", \"native\", \"natural\", \"natural\", \"natural\", \"natural\", \"natural\", \"natural\", \"natural\", \"natural\", \"new\", \"new\", \"new\", \"new\", \"new\", \"new\", \"new\", \"new\", \"new\", \"new\", \"nitrogen\", \"nitrogen\", \"normal\", \"normal\", \"north\", \"north\", \"north\", \"north\", \"north\", \"north\", \"north\", \"north\", \"northern\", \"northern\", \"northern\", \"northern\", \"nps\", \"observations\", \"observations\", \"observations\", \"observations\", \"observations\", \"observations\", \"observations\", \"observations\", \"observations\", \"observed\", \"observed\", \"observed\", \"observed\", \"observed\", \"observed\", \"observed\", \"observed\", \"ocean\", \"ocean\", \"ocean\", \"oceanic\", \"oil\", \"optical\", \"organic\", \"organic\", \"organisms\", \"orogen\", \"oxide\", \"oxide\", \"parameter\", \"parameter\", \"parameters\", \"parameters\", \"parameters\", \"parameters\", \"parameters\", \"parameters\", \"particle\", \"particle\", \"particle\", \"particle\", \"particles\", \"particles\", \"particles\", \"passive\", \"passive\", \"passive\", \"patterns\", \"patterns\", \"patterns\", \"patterns\", \"patterns\", \"patterns\", \"patterns\", \"patterns\", \"patterns\", \"patterns\", \"period\", \"period\", \"period\", \"period\", \"period\", \"period\", \"period\", \"period\", \"period\", \"phase\", \"phase\", \"phase\", \"phase\", \"phase\", \"phase\", \"phase\", \"phase\", \"phytoplankton\", \"phytoplankton\", \"planning\", \"planning\", \"plant\", \"plant\", \"plant\", \"plants\", \"plants\", \"plants\", \"plants\", \"plateau\", \"plateau\", \"plateau\", \"plume\", \"plumes\", \"policy\", \"policy\", \"population\", \"population\", \"population\", \"populations\", \"populations\", \"populations\", \"populations\", \"potential\", \"potential\", \"potential\", \"potential\", \"potential\", \"potential\", \"potential\", \"potential\", \"potential\", \"potential\", \"pre\", \"pre\", \"pre\", \"pre\", \"pre\", \"pre\", \"precipitation\", \"precipitation\", \"pressure\", \"pressure\", \"pressure\", \"pressure\", \"pressure\", \"primary\", \"primary\", \"primary\", \"primary\", \"primary\", \"primary\", \"primary\", \"primary\", \"primary\", \"primary\", \"processes\", \"processes\", \"processes\", \"processes\", \"processes\", \"processes\", \"processes\", \"processes\", \"processes\", \"processes\", \"production\", \"production\", \"production\", \"production\", \"production\", \"production\", \"productivity\", \"productivity\", \"productivity\", \"productivity\", \"products\", \"products\", \"products\", \"products\", \"program\", \"program\", \"project\", \"project\", \"project\", \"project\", \"project\", \"project\", \"protected\", \"protected\", \"provide\", \"provide\", \"provide\", \"provide\", \"provide\", \"provide\", \"provide\", \"provide\", \"provide\", \"provide\", \"public\", \"public\", \"rainfall\", \"rainfall\", \"rainfall\", \"rate\", \"rate\", \"rate\", \"rate\", \"rate\", \"rate\", \"rates\", \"rates\", \"rates\", \"rates\", \"rates\", \"rates\", \"rates\", \"ratios\", \"ratios\", \"ratios\", \"ratios\", \"recharge\", \"reduced\", \"reduced\", \"reduced\", \"reduced\", \"reduced\", \"reduced\", \"reduced\", \"reduced\", \"regional\", \"regional\", \"regional\", \"regional\", \"regional\", \"regional\", \"regional\", \"regional\", \"release\", \"release\", \"release\", \"remote\", \"removal\", \"removal\", \"removal\", \"removal\", \"research\", \"research\", \"research\", \"research\", \"research\", \"research\", \"research\", \"resolution\", \"resolution\", \"resolution\", \"resolution\", \"resolution\", \"restoration\", \"restoration\", \"restoration\", \"results\", \"results\", \"results\", \"results\", \"results\", \"results\", \"results\", \"results\", \"results\", \"results\", \"retrieval\", \"review\", \"review\", \"review\", \"review\", \"richness\", \"richness\", \"rise\", \"rise\", \"rise\", \"rise\", \"risk\", \"risk\", \"river\", \"river\", \"rivers\", \"rocks\", \"rocks\", \"root\", \"root\", \"runoff\", \"runoff\", \"rupture\", \"sample\", \"sample\", \"sample\", \"sample\", \"samples\", \"samples\", \"samples\", \"samples\", \"samples\", \"samples\", \"samples\", \"samples\", \"santa\", \"santa\", \"santa\", \"satellite\", \"satellite\", \"scattering\", \"science\", \"science\", \"scientific\", \"scientific\", \"sea\", \"sea\", \"sea\", \"sea\", \"sea\", \"season\", \"season\", \"seasonal\", \"seasonal\", \"seasonal\", \"sediment\", \"sediment\", \"sediment\", \"seismic\", \"seismic\", \"selection\", \"selection\", \"sensing\", \"sensor\", \"sensors\", \"services\", \"services\", \"shear\", \"shear\", \"shear\", \"sheet\", \"shelf\", \"shelf\", \"showed\", \"showed\", \"showed\", \"showed\", \"showed\", \"sierra\", \"sierra\", \"sierra\", \"signatures\", \"signatures\", \"significantly\", \"significantly\", \"significantly\", \"significantly\", \"significantly\", \"significantly\", \"significantly\", \"significantly\", \"significantly\", \"size\", \"size\", \"size\", \"size\", \"size\", \"size\", \"slip\", \"slope\", \"slope\", \"slope\", \"slope\", \"slope\", \"snow\", \"snow\", \"snowmelt\", \"snowpack\", \"snowpack\", \"social\", \"soil\", \"soil\", \"soil\", \"soils\", \"source\", \"source\", \"source\", \"source\", \"source\", \"source\", \"source\", \"source\", \"south\", \"south\", \"south\", \"south\", \"south\", \"south\", \"southern\", \"southern\", \"southern\", \"southern\", \"southern\", \"southern\", \"southern\", \"spatial\", \"spatial\", \"spatial\", \"spatial\", \"spatial\", \"spatial\", \"spatial\", \"species\", \"species\", \"species\", \"species\", \"spectra\", \"spectra\", \"spectral\", \"spring\", \"spring\", \"spring\", \"stability\", \"stability\", \"stability\", \"stability\", \"states\", \"states\", \"states\", \"states\", \"states\", \"states\", \"strain\", \"strain\", \"stream\", \"stream\", \"stream\", \"streamflow\", \"streamflow\", \"streams\", \"stress\", \"stress\", \"stress\", \"stress\", \"structural\", \"structural\", \"structural\", \"structural\", \"structures\", \"structures\", \"structures\", \"study\", \"study\", \"study\", \"study\", \"study\", \"study\", \"study\", \"study\", \"study\", \"study\", \"subduction\", \"subduction\", \"subduction\", \"subsurface\", \"subsurface\", \"subsurface\", \"subsurface\", \"subsurface\", \"summer\", \"summer\", \"summer\", \"summer\", \"supply\", \"supply\", \"supply\", \"supply\", \"supply\", \"supply\", \"support\", \"support\", \"support\", \"support\", \"support\", \"support\", \"support\", \"surface\", \"surface\", \"surface\", \"surface\", \"surface\", \"surface\", \"surface\", \"survival\", \"survival\", \"sustainable\", \"synthesis\", \"synthesis\", \"synthesis\", \"systems\", \"systems\", \"systems\", \"systems\", \"systems\", \"systems\", \"systems\", \"systems\", \"systems\", \"systems\", \"technology\", \"technology\", \"technology\", \"technology\", \"temperature\", \"temperature\", \"temperature\", \"temperature\", \"temperature\", \"temperature\", \"temperature\", \"temperature\", \"temperatures\", \"temperatures\", \"temperatures\", \"temperatures\", \"thermal\", \"thermal\", \"thermal\", \"thermal\", \"thermal\", \"thermal\", \"thrust\", \"thrust\", \"tibetan\", \"time\", \"time\", \"time\", \"time\", \"time\", \"time\", \"time\", \"time\", \"time\", \"time\", \"toxicity\", \"toxicity\", \"trace\", \"trace\", \"trace\", \"trace\", \"transport\", \"transport\", \"transport\", \"transport\", \"treatment\", \"treatment\", \"tree\", \"tree\", \"trees\", \"trees\", \"trends\", \"trends\", \"trends\", \"trends\", \"trends\", \"trends\", \"trends\", \"trends\", \"trends\", \"tropical\", \"tropical\", \"tropical\", \"tropical\", \"tropical\", \"tropical\", \"ucsb\", \"ucsb\", \"ucsb\", \"ucsb\", \"understanding\", \"understanding\", \"understanding\", \"understanding\", \"understanding\", \"understanding\", \"understanding\", \"understanding\", \"understanding\", \"understanding\", \"united\", \"united\", \"united\", \"united\", \"uplift\", \"uptake\", \"uptake\", \"upwelling\", \"upwelling\", \"urban\", \"urban\", \"urban\", \"use\", \"use\", \"use\", \"use\", \"use\", \"use\", \"use\", \"use\", \"use\", \"used\", \"used\", \"used\", \"used\", \"used\", \"used\", \"used\", \"used\", \"used\", \"used\", \"using\", \"using\", \"using\", \"using\", \"using\", \"using\", \"using\", \"using\", \"using\", \"using\", \"validation\", \"valley\", \"valley\", \"valley\", \"valley\", \"values\", \"values\", \"values\", \"values\", \"values\", \"values\", \"values\", \"values\", \"variability\", \"variability\", \"variability\", \"variability\", \"variability\", \"variability\", \"variability\", \"variables\", \"variables\", \"variables\", \"vegetation\", \"vegetation\", \"velocities\", \"velocities\", \"velocity\", \"velocity\", \"velocity\", \"visible\", \"volcanic\", \"volcanic\", \"warming\", \"warming\", \"warming\", \"warming\", \"water\", \"water\", \"water\", \"water\", \"water\", \"water\", \"water\", \"water\", \"watershed\", \"watershed\", \"watershed\", \"watershed\", \"wave\", \"waves\", \"west\", \"west\", \"west\", \"west\", \"western\", \"western\", \"western\", \"western\", \"western\", \"western\", \"wet\", \"wet\", \"wet\", \"wildfire\", \"wildfire\", \"winter\", \"winter\", \"work\", \"work\", \"work\", \"work\", \"work\", \"work\", \"work\", \"work\", \"work\", \"year\", \"year\", \"year\", \"year\", \"year\", \"year\", \"year\", \"year\", \"year\", \"years\", \"years\", \"years\", \"years\", \"years\", \"years\", \"years\", \"years\", \"zircon\", \"zircon\", \"zone\", \"zone\", \"zone\", \"zone\", \"zone\", \"zone\", \"zones\", \"zones\", \"zones\", \"zones\", \"zones\", \"zones\"]}, \"R\": 30, \"lambda.step\": 0.01, \"plot.opts\": {\"xlab\": \"PC1\", \"ylab\": \"PC2\"}, \"topic.order\": [2, 9, 1, 10, 4, 6, 8, 5, 3, 7]};\n",
       "\n",
       "function LDAvis_load_lib(url, callback){\n",
       "  var s = document.createElement('script');\n",
       "  s.src = url;\n",
       "  s.async = true;\n",
       "  s.onreadystatechange = s.onload = callback;\n",
       "  s.onerror = function(){console.warn(\"failed to load library \" + url);};\n",
       "  document.getElementsByTagName(\"head\")[0].appendChild(s);\n",
       "}\n",
       "\n",
       "if(typeof(LDAvis) !== \"undefined\"){\n",
       "   // already loaded: just create the visualization\n",
       "   !function(LDAvis){\n",
       "       new LDAvis(\"#\" + \"ldavis_el965511122667968724432803295\", ldavis_el965511122667968724432803295_data);\n",
       "   }(LDAvis);\n",
       "}else if(typeof define === \"function\" && define.amd){\n",
       "   // require.js is available: use it to load d3/LDAvis\n",
       "   require.config({paths: {d3: \"https://cdnjs.cloudflare.com/ajax/libs/d3/3.5.5/d3.min\"}});\n",
       "   require([\"d3\"], function(d3){\n",
       "      window.d3 = d3;\n",
       "      LDAvis_load_lib(\"https://cdn.rawgit.com/bmabey/pyLDAvis/files/ldavis.v1.0.0.js\", function(){\n",
       "        new LDAvis(\"#\" + \"ldavis_el965511122667968724432803295\", ldavis_el965511122667968724432803295_data);\n",
       "      });\n",
       "    });\n",
       "}else{\n",
       "    // require.js not available: dynamically load d3 & LDAvis\n",
       "    LDAvis_load_lib(\"https://cdnjs.cloudflare.com/ajax/libs/d3/3.5.5/d3.min.js\", function(){\n",
       "         LDAvis_load_lib(\"https://cdn.rawgit.com/bmabey/pyLDAvis/files/ldavis.v1.0.0.js\", function(){\n",
       "                 new LDAvis(\"#\" + \"ldavis_el965511122667968724432803295\", ldavis_el965511122667968724432803295_data);\n",
       "            })\n",
       "         });\n",
       "}\n",
       "</script>"
      ],
      "text/plain": [
       "PreparedData(topic_coordinates=              x         y  topics  cluster       Freq\n",
       "topic                                                \n",
       "1      0.073141  0.082564       1        1  14.511509\n",
       "8      0.113796  0.028918       2        1  13.451547\n",
       "0      0.184092  0.177205       3        1  11.774393\n",
       "9      0.020344 -0.001704       4        1  11.052858\n",
       "3      0.135110 -0.081062       5        1  10.006759\n",
       "5     -0.151273  0.075583       6        1   9.465218\n",
       "7     -0.038357 -0.089254       7        1   9.282180\n",
       "4     -0.071771  0.049201       8        1   9.127804\n",
       "2      0.051289 -0.260598       9        1   6.798207\n",
       "6     -0.316371  0.019146      10        1   4.529526, topic_info=    Category         Freq           Term        Total  loglift  logprob\n",
       "835  Default  1473.000000           soil  1473.000000  30.0000  30.0000\n",
       "846  Default  2101.000000        species  2101.000000  29.0000  29.0000\n",
       "977  Default  2616.000000          water  2616.000000  28.0000  28.0000\n",
       "115  Default  1878.000000        climate  1878.000000  27.0000  27.0000\n",
       "90   Default  1069.000000         carbon  1069.000000  26.0000  26.0000\n",
       "610  Default  1039.000000          ocean  1039.000000  25.0000  25.0000\n",
       "792  Default   846.000000       sediment   846.000000  24.0000  24.0000\n",
       "767  Default   805.000000          river   805.000000  23.0000  23.0000\n",
       "322  Default   727.000000          fault   727.000000  22.0000  22.0000\n",
       "183  Default  3332.000000           data  3332.000000  21.0000  21.0000\n",
       "645  Default   627.000000          plant   627.000000  20.0000  20.0000\n",
       "771  Default   487.000000          rocks   487.000000  19.0000  19.0000\n",
       "663  Default   727.000000  precipitation   727.000000  18.0000  18.0000\n",
       "831  Default  1072.000000           snow  1072.000000  17.0000  17.0000\n",
       "688  Default  1018.000000        project  1018.000000  16.0000  16.0000\n",
       "749  Default  1151.000000       research  1151.000000  15.0000  15.0000\n",
       "523  Default   562.000000         mantle   562.000000  14.0000  14.0000\n",
       "175  Default   482.000000          crust   482.000000  13.0000  13.0000\n",
       "522  Default   709.000000     management   709.000000  12.0000  12.0000\n",
       "968  Default   850.000000     vegetation   850.000000  11.0000  11.0000\n",
       "102  Default  1397.000000         change  1397.000000  10.0000  10.0000\n",
       "79   Default   586.000000        biomass   586.000000   9.0000   9.0000\n",
       "683  Default   788.000000     production   788.000000   8.0000   8.0000\n",
       "283  Default  1021.000000  environmental  1021.000000   7.0000   7.0000\n",
       "981  Default   435.000000           wave   435.000000   6.0000   6.0000\n",
       "712  Default  1124.000000          rates  1124.000000   5.0000   5.0000\n",
       "551  Default   437.000000      microbial   437.000000   4.0000   4.0000\n",
       "828  Default   424.000000           slip   424.000000   3.0000   3.0000\n",
       "68   Default   697.000000          basin   697.000000   2.0000   2.0000\n",
       "959  Default   871.000000    variability   871.000000   1.0000   1.0000\n",
       "..       ...          ...            ...          ...      ...      ...\n",
       "176  Topic10   294.549933        crustal   345.060558   2.9363  -3.8535\n",
       "188  Topic10   181.214744          dates   220.892321   2.8966  -4.3392\n",
       "806  Topic10   265.355689          shear   336.293702   2.8576  -3.9578\n",
       "175  Topic10   370.421974          crust   482.575086   2.8301  -3.6243\n",
       "879  Topic10   184.589150     subduction   252.761130   2.7802  -4.3208\n",
       "315  Topic10    97.252851      extension   134.474974   2.7705  -4.9616\n",
       "910  Topic10   178.651610        thermal   261.409064   2.7139  -4.3535\n",
       "199  Topic10   246.738295    deformation   377.098062   2.6704  -4.0306\n",
       "863  Topic10   106.323499         strain   163.714310   2.6629  -4.8724\n",
       "162  Topic10   102.696395        cooling   161.883402   2.6395  -4.9071\n",
       "555  Topic10    92.588854        mineral   148.440480   2.6225  -5.0107\n",
       "554  Topic10   107.122482         middle   176.518050   2.5951  -4.8649\n",
       "662  Topic10    96.363750            pre   161.943057   2.5754  -4.9708\n",
       "671  Topic10   182.665329       pressure   321.859885   2.5281  -4.3312\n",
       "380  Topic10   110.105492          grain   194.103055   2.5276  -4.8375\n",
       "911  Topic10    86.161143         thrust   152.024880   2.5267  -5.0827\n",
       "999  Topic10   101.306193          zones   179.999059   2.5197  -4.9208\n",
       "872  Topic10   143.698657     structural   255.888591   2.5175  -4.5712\n",
       "164  Topic10   102.557746           core   183.194288   2.5144  -4.9085\n",
       "20   Topic10   170.733040           ages   307.132328   2.5074  -4.3988\n",
       "648  Topic10   128.016238        plateau   231.762811   2.5010  -4.6867\n",
       "154  Topic10   143.197247    continental   332.661316   2.2517  -4.5747\n",
       "299  Topic10   163.143457      evolution   435.676114   2.1123  -4.4443\n",
       "998  Topic10   155.217903           zone   463.419735   2.0007  -4.4941\n",
       "901  Topic10   180.751527    temperature   846.396384   1.5507  -4.3418\n",
       "399  Topic10   217.594945           high  1853.255248   0.9525  -4.1563\n",
       "902  Topic10   122.561931   temperatures   298.848525   2.2032  -4.7303\n",
       "514  Topic10   144.377159          lower   575.497634   1.7117  -4.5665\n",
       "350  Topic10   115.005523      formation   397.772308   1.8537  -4.7939\n",
       "334  Topic10   116.515828           flow   597.113782   1.4605  -4.7809\n",
       "\n",
       "[512 rows x 6 columns], token_table=      Topic      Freq        Term\n",
       "term                             \n",
       "1         1  0.997165  absorption\n",
       "2         2  0.667145   abundance\n",
       "2         5  0.274225   abundance\n",
       "2         7  0.057301   abundance\n",
       "5         1  0.996077    accuracy\n",
       "7         5  0.042776        acid\n",
       "7         9  0.955330        acid\n",
       "8         1  0.199704      active\n",
       "8         5  0.020482      active\n",
       "8         6  0.547907      active\n",
       "8         7  0.046086      active\n",
       "8         9  0.151058      active\n",
       "8        10  0.033284      active\n",
       "10        2  0.109219    activity\n",
       "10        3  0.067212    activity\n",
       "10        4  0.170830    activity\n",
       "10        5  0.058810    activity\n",
       "10        6  0.126022    activity\n",
       "10        7  0.042007    activity\n",
       "10        8  0.042007    activity\n",
       "10        9  0.380868    activity\n",
       "11        3  0.946197  adaptation\n",
       "11        9  0.052153  adaptation\n",
       "15        1  0.058766    adjacent\n",
       "15        2  0.124063    adjacent\n",
       "15        6  0.659490    adjacent\n",
       "15        7  0.137122    adjacent\n",
       "15        8  0.019589    adjacent\n",
       "19        2  0.149826         age\n",
       "19        6  0.650884         age\n",
       "...     ...       ...         ...\n",
       "993       2  0.119485        year\n",
       "993       3  0.061553        year\n",
       "993       4  0.501475        year\n",
       "993       5  0.009052        year\n",
       "993       6  0.045259        year\n",
       "993       7  0.079657        year\n",
       "993       8  0.061553        year\n",
       "993       9  0.061553        year\n",
       "994       1  0.039916       years\n",
       "994       2  0.182017       years\n",
       "994       3  0.006387       years\n",
       "994       4  0.394370       years\n",
       "994       5  0.087815       years\n",
       "994       6  0.113362       years\n",
       "994       7  0.063866       years\n",
       "994       8  0.108572       years\n",
       "997       6  0.007210      zircon\n",
       "997      10  0.987786      zircon\n",
       "998       4  0.185577        zone\n",
       "998       5  0.017263        zone\n",
       "998       6  0.295628        zone\n",
       "998       7  0.028052        zone\n",
       "998       8  0.135946        zone\n",
       "998      10  0.334470        zone\n",
       "999       2  0.155556       zones\n",
       "999       3  0.011111       zones\n",
       "999       4  0.011111       zones\n",
       "999       6  0.066667       zones\n",
       "999       7  0.194445       zones\n",
       "999      10  0.561114       zones\n",
       "\n",
       "[1596 rows x 3 columns], R=30, lambda_step=0.01, plot_opts={'xlab': 'PC1', 'ylab': 'PC2'}, topic_order=[2, 9, 1, 10, 4, 6, 8, 5, 3, 7])"
      ]
     },
     "execution_count": 8,
     "metadata": {},
     "output_type": "execute_result"
    }
   ],
   "source": [
    "# VISUALIZATION pyLDAvis for LDA model from scikit-learn\n",
    "pyLDAvis.enable_notebook()\n",
    "vis = pyLDAvis.sklearn.prepare(lda_tf, tf, tf_vectorizer)\n",
    "pyLDAvis.save_html(vis, 'pyLDAvis/lda-scikitlearn-10.html') #saves pyLDAvis graphs as standalone webpage\n",
    "vis"
   ]
  },
  {
   "cell_type": "code",
   "execution_count": null,
   "metadata": {},
   "outputs": [],
   "source": []
  }
 ],
 "metadata": {
  "kernelspec": {
   "display_name": "Python 3",
   "language": "python",
   "name": "python3"
  },
  "language_info": {
   "codemirror_mode": {
    "name": "ipython",
    "version": 3
   },
   "file_extension": ".py",
   "mimetype": "text/x-python",
   "name": "python",
   "nbconvert_exporter": "python",
   "pygments_lexer": "ipython3",
   "version": "3.7.3"
  }
 },
 "nbformat": 4,
 "nbformat_minor": 4
}
