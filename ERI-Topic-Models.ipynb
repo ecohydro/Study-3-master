{
 "cells": [
  {
   "cell_type": "code",
   "execution_count": 42,
   "metadata": {},
   "outputs": [],
   "source": [
    "# Goal: Data preprocessing, NLP, topic models, spatialization/visualization of ERI publications and funded projects\n",
    "# Load libraries\n",
    "import pandas as pd\n",
    "import numpy as np\n",
    "import matplotlib.pyplot as plt"
   ]
  },
  {
   "cell_type": "code",
   "execution_count": 76,
   "metadata": {},
   "outputs": [
    {
     "data": {
      "text/plain": [
       "count    3770.000000\n",
       "mean     1678.432626\n",
       "std       687.609548\n",
       "min       128.000000\n",
       "25%      1247.000000\n",
       "50%      1630.000000\n",
       "75%      1993.000000\n",
       "max      7083.000000\n",
       "Name: combined_len, dtype: float64"
      ]
     },
     "execution_count": 76,
     "metadata": {},
     "output_type": "execute_result"
    }
   ],
   "source": [
    "# Read in docs (corpus) from csv; report length of abstract text\n",
    "docs = pd.read_csv(\"ERI-combined-2009-2019.csv\")\n",
    "len(docs)\n",
    "\n",
    "# Concatenate title and abstract to new column for topic model\n",
    "docs['combined'] = docs['title'].astype(str) + ' ' + docs['abstract'].astype(str)\n",
    "docs.head()\n",
    "\n",
    "# Calculate lengths of combined title and abstract; add columns to dataframe for length of abstracts\n",
    "docs['title_len'] = docs['title'].apply(len)\n",
    "docs['abstract_len'] = docs['abstract'].apply(len)\n",
    "docs['combined_len'] = docs['combined'].apply(len)\n",
    "docs.head()\n",
    "\n",
    "# Calculate summary statistics for combined title and abstract lengths to determine text suitability\n",
    "docs.combined_len.describe()"
   ]
  },
  {
   "cell_type": "code",
   "execution_count": 97,
   "metadata": {},
   "outputs": [
    {
     "data": {
      "text/plain": [
       "<matplotlib.axes._subplots.AxesSubplot at 0x12a5a90b8>"
      ]
     },
     "execution_count": 97,
     "metadata": {},
     "output_type": "execute_result"
    },
    {
     "data": {
      "image/png": "[encoded data removed]",
      "text/plain": [
       "<Figure size 432x288 with 1 Axes>"
      ]
     },
     "metadata": {
      "needs_background": "light"
     },
     "output_type": "display_data"
    }
   ],
   "source": [
    "# Read in pubs from csv; report distribution across publication years\n",
    "pubs = pd.read_csv(\"ERI-publications-2009-2019.csv\")\n",
    "len(pubs)\n",
    "pubs.head()\n",
    "pubs.groupby(['PubYear']).size().plot(kind='bar')\n",
    "#print(pubs.groupby(['PubYear']).size())"
   ]
  },
  {
   "cell_type": "code",
   "execution_count": 92,
   "metadata": {},
   "outputs": [
    {
     "data": {
      "text/plain": [
       "<matplotlib.axes._subplots.AxesSubplot at 0x1239cca58>"
      ]
     },
     "execution_count": 92,
     "metadata": {},
     "output_type": "execute_result"
    },
    {
     "data": {
      "image/png": "[encoded data removed]",
      "text/plain": [
       "<Figure size 432x288 with 1 Axes>"
      ]
     },
     "metadata": {
      "needs_background": "light"
     },
     "output_type": "display_data"
    }
   ],
   "source": [
    "# Read in projects from csv; report distribution across start and end years\n",
    "proj = pd.read_csv(\"ERI-projects-2009-2019.csv\")\n",
    "len(proj)\n",
    "proj.head()\n",
    "#proj.groupby(['start-year']).size().plot(kind='bar')\n",
    "proj.groupby(['end-year']).size().plot(kind='bar')\n",
    "#print(proj.groupby(['end-year']).size())"
   ]
  },
  {
   "cell_type": "code",
   "execution_count": null,
   "metadata": {},
   "outputs": [],
   "source": []
  }
 ],
 "metadata": {
  "kernelspec": {
   "display_name": "Python 3",
   "language": "python",
   "name": "python3"
  },
  "language_info": {
   "codemirror_mode": {
    "name": "ipython",
    "version": 3
   },
   "file_extension": ".py",
   "mimetype": "text/x-python",
   "name": "python",
   "nbconvert_exporter": "python",
   "pygments_lexer": "ipython3",
   "version": "3.7.3"
  }
 },
 "nbformat": 4,
 "nbformat_minor": 4
}
